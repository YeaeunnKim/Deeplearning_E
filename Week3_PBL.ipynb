{
  "cells": [
    {
      "cell_type": "markdown",
      "metadata": {
        "id": "view-in-github",
        "colab_type": "text"
      },
      "source": [
        "<a href=\"https://colab.research.google.com/github/YeaeunnKim/Deeplearning_E/blob/main/Week3_PBL.ipynb\" target=\"_parent\"><img src=\"https://colab.research.google.com/assets/colab-badge.svg\" alt=\"Open In Colab\"/></a>"
      ]
    },
    {
      "cell_type": "code",
      "source": [
        "!pip install idx2numpy"
      ],
      "metadata": {
        "colab": {
          "base_uri": "https://localhost:8080/"
        },
        "id": "bqIVlwCsWir0",
        "outputId": "56e990c2-af7a-4269-8f4e-785da285bd09"
      },
      "id": "bqIVlwCsWir0",
      "execution_count": null,
      "outputs": [
        {
          "output_type": "stream",
          "name": "stdout",
          "text": [
            "Collecting idx2numpy\n",
            "  Downloading idx2numpy-1.2.3.tar.gz (6.8 kB)\n",
            "  Preparing metadata (setup.py) ... \u001b[?25l\u001b[?25hdone\n",
            "Requirement already satisfied: numpy in /usr/local/lib/python3.10/dist-packages (from idx2numpy) (1.22.4)\n",
            "Requirement already satisfied: six in /usr/local/lib/python3.10/dist-packages (from idx2numpy) (1.16.0)\n",
            "Building wheels for collected packages: idx2numpy\n",
            "  Building wheel for idx2numpy (setup.py) ... \u001b[?25l\u001b[?25hdone\n",
            "  Created wheel for idx2numpy: filename=idx2numpy-1.2.3-py3-none-any.whl size=7903 sha256=88e88798f0ef53461d2225dc10446427a5deb58434c198bc9c86a3ecfc743132\n",
            "  Stored in directory: /root/.cache/pip/wheels/e0/f4/e7/643fc5f932ec2ff92997f43f007660feb23f948aa8486f1107\n",
            "Successfully built idx2numpy\n",
            "Installing collected packages: idx2numpy\n",
            "Successfully installed idx2numpy-1.2.3\n"
          ]
        }
      ]
    },
    {
      "cell_type": "code",
      "execution_count": null,
      "id": "32a18341",
      "metadata": {
        "id": "32a18341"
      },
      "outputs": [],
      "source": [
        "#import gzip\n",
        "import numpy as np\n",
        "import pandas as pd\n",
        "import torch\n",
        "import torch.nn as nn\n",
        "import torch.optim as optim\n",
        "import matplotlib.pyplot as plt\n",
        "import os\n",
        "import pickle\n",
        "from PIL import Image\n",
        "import idx2numpy"
      ]
    },
    {
      "cell_type": "code",
      "source": [
        "from google.colab import drive\n",
        "drive.mount('/content/drive')\n",
        "os.chdir('/content/drive/My Drive/KUBIG/2023_summer/')"
      ],
      "metadata": {
        "colab": {
          "base_uri": "https://localhost:8080/"
        },
        "id": "WWnLNfAyMUkZ",
        "outputId": "c7cdb1bc-9a41-4f98-fa86-e245b20d6f43"
      },
      "id": "WWnLNfAyMUkZ",
      "execution_count": null,
      "outputs": [
        {
          "output_type": "stream",
          "name": "stdout",
          "text": [
            "Mounted at /content/drive\n"
          ]
        }
      ]
    },
    {
      "cell_type": "code",
      "source": [
        "#%cd /content/drive/MyDrive/KUBIG/2023_summer/\n",
        "#!unzip \"3주차-PBL-data.zip\""
      ],
      "metadata": {
        "id": "CsswxvqCldNz"
      },
      "id": "CsswxvqCldNz",
      "execution_count": null,
      "outputs": []
    },
    {
      "cell_type": "code",
      "source": [
        "import time\n",
        "\n",
        "def timer(func):\n",
        "    def wrapper(*args, **kwargs):\n",
        "        start_time = time.time()\n",
        "        result = func(*args, **kwargs)\n",
        "        end_time = time.time()\n",
        "        computation_time = end_time - start_time\n",
        "        print(f\"Execution time of {func.__name__}: {computation_time} seconds\")\n",
        "        return result\n",
        "    return wrapper"
      ],
      "metadata": {
        "id": "F3KtAnd4l_b4"
      },
      "id": "F3KtAnd4l_b4",
      "execution_count": null,
      "outputs": []
    },
    {
      "cell_type": "code",
      "source": [
        "with open('train.pkl', 'rb') as f:\n",
        "    train_data = pickle.load(f)\n",
        "\n",
        "train_data"
      ],
      "metadata": {
        "colab": {
          "base_uri": "https://localhost:8080/",
          "height": 424
        },
        "id": "VznMvnK6MMIp",
        "outputId": "9112eca3-f945-47c5-8dd9-32327151abf4"
      },
      "id": "VznMvnK6MMIp",
      "execution_count": null,
      "outputs": [
        {
          "output_type": "execute_result",
          "data": {
            "text/plain": [
              "       n  potential                                 position  \\\n",
              "0      5      0.226                 [81, 117, 150, 182, 218]   \n",
              "1      7      0.448       [93, 114, 132, 150, 167, 185, 206]   \n",
              "2      5      0.341                 [97, 125, 150, 174, 202]   \n",
              "3      8      0.390  [82, 104, 123, 141, 158, 176, 195, 217]   \n",
              "4      8      0.404  [83, 105, 124, 141, 158, 175, 194, 216]   \n",
              "...   ..        ...                                      ...   \n",
              "59995  6      0.369            [92, 117, 139, 160, 182, 207]   \n",
              "59996  8      0.320   [72, 98, 119, 140, 159, 180, 201, 227]   \n",
              "59997  8      0.266   [62, 91, 115, 138, 161, 184, 208, 237]   \n",
              "59998  8      0.337   [75, 99, 120, 140, 159, 179, 200, 224]   \n",
              "59999  6      0.179             [57, 97, 132, 167, 202, 242]   \n",
              "\n",
              "                    img_path  \n",
              "0          train/image_0.png  \n",
              "1          train/image_1.png  \n",
              "2          train/image_2.png  \n",
              "3          train/image_3.png  \n",
              "4          train/image_4.png  \n",
              "...                      ...  \n",
              "59995  train/image_59995.png  \n",
              "59996  train/image_59996.png  \n",
              "59997  train/image_59997.png  \n",
              "59998  train/image_59998.png  \n",
              "59999  train/image_59999.png  \n",
              "\n",
              "[60000 rows x 4 columns]"
            ],
            "text/html": [
              "\n",
              "\n",
              "  <div id=\"df-eb638613-39d9-429c-b0f4-ebd3dd1e927c\">\n",
              "    <div class=\"colab-df-container\">\n",
              "      <div>\n",
              "<style scoped>\n",
              "    .dataframe tbody tr th:only-of-type {\n",
              "        vertical-align: middle;\n",
              "    }\n",
              "\n",
              "    .dataframe tbody tr th {\n",
              "        vertical-align: top;\n",
              "    }\n",
              "\n",
              "    .dataframe thead th {\n",
              "        text-align: right;\n",
              "    }\n",
              "</style>\n",
              "<table border=\"1\" class=\"dataframe\">\n",
              "  <thead>\n",
              "    <tr style=\"text-align: right;\">\n",
              "      <th></th>\n",
              "      <th>n</th>\n",
              "      <th>potential</th>\n",
              "      <th>position</th>\n",
              "      <th>img_path</th>\n",
              "    </tr>\n",
              "  </thead>\n",
              "  <tbody>\n",
              "    <tr>\n",
              "      <th>0</th>\n",
              "      <td>5</td>\n",
              "      <td>0.226</td>\n",
              "      <td>[81, 117, 150, 182, 218]</td>\n",
              "      <td>train/image_0.png</td>\n",
              "    </tr>\n",
              "    <tr>\n",
              "      <th>1</th>\n",
              "      <td>7</td>\n",
              "      <td>0.448</td>\n",
              "      <td>[93, 114, 132, 150, 167, 185, 206]</td>\n",
              "      <td>train/image_1.png</td>\n",
              "    </tr>\n",
              "    <tr>\n",
              "      <th>2</th>\n",
              "      <td>5</td>\n",
              "      <td>0.341</td>\n",
              "      <td>[97, 125, 150, 174, 202]</td>\n",
              "      <td>train/image_2.png</td>\n",
              "    </tr>\n",
              "    <tr>\n",
              "      <th>3</th>\n",
              "      <td>8</td>\n",
              "      <td>0.390</td>\n",
              "      <td>[82, 104, 123, 141, 158, 176, 195, 217]</td>\n",
              "      <td>train/image_3.png</td>\n",
              "    </tr>\n",
              "    <tr>\n",
              "      <th>4</th>\n",
              "      <td>8</td>\n",
              "      <td>0.404</td>\n",
              "      <td>[83, 105, 124, 141, 158, 175, 194, 216]</td>\n",
              "      <td>train/image_4.png</td>\n",
              "    </tr>\n",
              "    <tr>\n",
              "      <th>...</th>\n",
              "      <td>...</td>\n",
              "      <td>...</td>\n",
              "      <td>...</td>\n",
              "      <td>...</td>\n",
              "    </tr>\n",
              "    <tr>\n",
              "      <th>59995</th>\n",
              "      <td>6</td>\n",
              "      <td>0.369</td>\n",
              "      <td>[92, 117, 139, 160, 182, 207]</td>\n",
              "      <td>train/image_59995.png</td>\n",
              "    </tr>\n",
              "    <tr>\n",
              "      <th>59996</th>\n",
              "      <td>8</td>\n",
              "      <td>0.320</td>\n",
              "      <td>[72, 98, 119, 140, 159, 180, 201, 227]</td>\n",
              "      <td>train/image_59996.png</td>\n",
              "    </tr>\n",
              "    <tr>\n",
              "      <th>59997</th>\n",
              "      <td>8</td>\n",
              "      <td>0.266</td>\n",
              "      <td>[62, 91, 115, 138, 161, 184, 208, 237]</td>\n",
              "      <td>train/image_59997.png</td>\n",
              "    </tr>\n",
              "    <tr>\n",
              "      <th>59998</th>\n",
              "      <td>8</td>\n",
              "      <td>0.337</td>\n",
              "      <td>[75, 99, 120, 140, 159, 179, 200, 224]</td>\n",
              "      <td>train/image_59998.png</td>\n",
              "    </tr>\n",
              "    <tr>\n",
              "      <th>59999</th>\n",
              "      <td>6</td>\n",
              "      <td>0.179</td>\n",
              "      <td>[57, 97, 132, 167, 202, 242]</td>\n",
              "      <td>train/image_59999.png</td>\n",
              "    </tr>\n",
              "  </tbody>\n",
              "</table>\n",
              "<p>60000 rows × 4 columns</p>\n",
              "</div>\n",
              "      <button class=\"colab-df-convert\" onclick=\"convertToInteractive('df-eb638613-39d9-429c-b0f4-ebd3dd1e927c')\"\n",
              "              title=\"Convert this dataframe to an interactive table.\"\n",
              "              style=\"display:none;\">\n",
              "\n",
              "  <svg xmlns=\"http://www.w3.org/2000/svg\" height=\"24px\"viewBox=\"0 0 24 24\"\n",
              "       width=\"24px\">\n",
              "    <path d=\"M0 0h24v24H0V0z\" fill=\"none\"/>\n",
              "    <path d=\"M18.56 5.44l.94 2.06.94-2.06 2.06-.94-2.06-.94-.94-2.06-.94 2.06-2.06.94zm-11 1L8.5 8.5l.94-2.06 2.06-.94-2.06-.94L8.5 2.5l-.94 2.06-2.06.94zm10 10l.94 2.06.94-2.06 2.06-.94-2.06-.94-.94-2.06-.94 2.06-2.06.94z\"/><path d=\"M17.41 7.96l-1.37-1.37c-.4-.4-.92-.59-1.43-.59-.52 0-1.04.2-1.43.59L10.3 9.45l-7.72 7.72c-.78.78-.78 2.05 0 2.83L4 21.41c.39.39.9.59 1.41.59.51 0 1.02-.2 1.41-.59l7.78-7.78 2.81-2.81c.8-.78.8-2.07 0-2.86zM5.41 20L4 18.59l7.72-7.72 1.47 1.35L5.41 20z\"/>\n",
              "  </svg>\n",
              "      </button>\n",
              "\n",
              "\n",
              "\n",
              "    <div id=\"df-19a16d7e-dbb6-4a11-9a5c-7b83601a3864\">\n",
              "      <button class=\"colab-df-quickchart\" onclick=\"quickchart('df-19a16d7e-dbb6-4a11-9a5c-7b83601a3864')\"\n",
              "              title=\"Suggest charts.\"\n",
              "              style=\"display:none;\">\n",
              "\n",
              "<svg xmlns=\"http://www.w3.org/2000/svg\" height=\"24px\"viewBox=\"0 0 24 24\"\n",
              "     width=\"24px\">\n",
              "    <g>\n",
              "        <path d=\"M19 3H5c-1.1 0-2 .9-2 2v14c0 1.1.9 2 2 2h14c1.1 0 2-.9 2-2V5c0-1.1-.9-2-2-2zM9 17H7v-7h2v7zm4 0h-2V7h2v10zm4 0h-2v-4h2v4z\"/>\n",
              "    </g>\n",
              "</svg>\n",
              "      </button>\n",
              "    </div>\n",
              "\n",
              "<style>\n",
              "  .colab-df-quickchart {\n",
              "    background-color: #E8F0FE;\n",
              "    border: none;\n",
              "    border-radius: 50%;\n",
              "    cursor: pointer;\n",
              "    display: none;\n",
              "    fill: #1967D2;\n",
              "    height: 32px;\n",
              "    padding: 0 0 0 0;\n",
              "    width: 32px;\n",
              "  }\n",
              "\n",
              "  .colab-df-quickchart:hover {\n",
              "    background-color: #E2EBFA;\n",
              "    box-shadow: 0px 1px 2px rgba(60, 64, 67, 0.3), 0px 1px 3px 1px rgba(60, 64, 67, 0.15);\n",
              "    fill: #174EA6;\n",
              "  }\n",
              "\n",
              "  [theme=dark] .colab-df-quickchart {\n",
              "    background-color: #3B4455;\n",
              "    fill: #D2E3FC;\n",
              "  }\n",
              "\n",
              "  [theme=dark] .colab-df-quickchart:hover {\n",
              "    background-color: #434B5C;\n",
              "    box-shadow: 0px 1px 3px 1px rgba(0, 0, 0, 0.15);\n",
              "    filter: drop-shadow(0px 1px 2px rgba(0, 0, 0, 0.3));\n",
              "    fill: #FFFFFF;\n",
              "  }\n",
              "</style>\n",
              "\n",
              "    <script>\n",
              "      async function quickchart(key) {\n",
              "        const containerElement = document.querySelector('#' + key);\n",
              "        const charts = await google.colab.kernel.invokeFunction(\n",
              "            'suggestCharts', [key], {});\n",
              "      }\n",
              "    </script>\n",
              "\n",
              "      <script>\n",
              "\n",
              "function displayQuickchartButton(domScope) {\n",
              "  let quickchartButtonEl =\n",
              "    domScope.querySelector('#df-19a16d7e-dbb6-4a11-9a5c-7b83601a3864 button.colab-df-quickchart');\n",
              "  quickchartButtonEl.style.display =\n",
              "    google.colab.kernel.accessAllowed ? 'block' : 'none';\n",
              "}\n",
              "\n",
              "        displayQuickchartButton(document);\n",
              "      </script>\n",
              "      <style>\n",
              "    .colab-df-container {\n",
              "      display:flex;\n",
              "      flex-wrap:wrap;\n",
              "      gap: 12px;\n",
              "    }\n",
              "\n",
              "    .colab-df-convert {\n",
              "      background-color: #E8F0FE;\n",
              "      border: none;\n",
              "      border-radius: 50%;\n",
              "      cursor: pointer;\n",
              "      display: none;\n",
              "      fill: #1967D2;\n",
              "      height: 32px;\n",
              "      padding: 0 0 0 0;\n",
              "      width: 32px;\n",
              "    }\n",
              "\n",
              "    .colab-df-convert:hover {\n",
              "      background-color: #E2EBFA;\n",
              "      box-shadow: 0px 1px 2px rgba(60, 64, 67, 0.3), 0px 1px 3px 1px rgba(60, 64, 67, 0.15);\n",
              "      fill: #174EA6;\n",
              "    }\n",
              "\n",
              "    [theme=dark] .colab-df-convert {\n",
              "      background-color: #3B4455;\n",
              "      fill: #D2E3FC;\n",
              "    }\n",
              "\n",
              "    [theme=dark] .colab-df-convert:hover {\n",
              "      background-color: #434B5C;\n",
              "      box-shadow: 0px 1px 3px 1px rgba(0, 0, 0, 0.15);\n",
              "      filter: drop-shadow(0px 1px 2px rgba(0, 0, 0, 0.3));\n",
              "      fill: #FFFFFF;\n",
              "    }\n",
              "  </style>\n",
              "\n",
              "      <script>\n",
              "        const buttonEl =\n",
              "          document.querySelector('#df-eb638613-39d9-429c-b0f4-ebd3dd1e927c button.colab-df-convert');\n",
              "        buttonEl.style.display =\n",
              "          google.colab.kernel.accessAllowed ? 'block' : 'none';\n",
              "\n",
              "        async function convertToInteractive(key) {\n",
              "          const element = document.querySelector('#df-eb638613-39d9-429c-b0f4-ebd3dd1e927c');\n",
              "          const dataTable =\n",
              "            await google.colab.kernel.invokeFunction('convertToInteractive',\n",
              "                                                     [key], {});\n",
              "          if (!dataTable) return;\n",
              "\n",
              "          const docLinkHtml = 'Like what you see? Visit the ' +\n",
              "            '<a target=\"_blank\" href=https://colab.research.google.com/notebooks/data_table.ipynb>data table notebook</a>'\n",
              "            + ' to learn more about interactive tables.';\n",
              "          element.innerHTML = '';\n",
              "          dataTable['output_type'] = 'display_data';\n",
              "          await google.colab.output.renderOutput(dataTable, element);\n",
              "          const docLink = document.createElement('div');\n",
              "          docLink.innerHTML = docLinkHtml;\n",
              "          element.appendChild(docLink);\n",
              "        }\n",
              "      </script>\n",
              "    </div>\n",
              "  </div>\n"
            ]
          },
          "metadata": {},
          "execution_count": 6
        }
      ]
    },
    {
      "cell_type": "code",
      "source": [
        "with open('valid.pkl', 'rb') as f:\n",
        "    valid_data = pickle.load(f)\n",
        "\n",
        "valid_data"
      ],
      "metadata": {
        "colab": {
          "base_uri": "https://localhost:8080/",
          "height": 424
        },
        "id": "YVoqd-2bM7Jo",
        "outputId": "c8ca0c96-bdcb-48f9-8b29-fab7196926ad"
      },
      "id": "YVoqd-2bM7Jo",
      "execution_count": null,
      "outputs": [
        {
          "output_type": "execute_result",
          "data": {
            "text/plain": [
              "      n  potential                                 position  \\\n",
              "0     6      0.457           [100, 122, 140, 159, 177, 199]   \n",
              "1     7      0.291       [74, 102, 127, 150, 172, 197, 225]   \n",
              "2     6      0.434            [98, 121, 140, 159, 178, 201]   \n",
              "3     8      0.435  [86, 107, 125, 141, 158, 174, 192, 213]   \n",
              "4     8      0.401  [83, 105, 124, 141, 158, 175, 194, 216]   \n",
              "...  ..        ...                                      ...   \n",
              "9995  6      0.301            [84, 113, 137, 162, 186, 215]   \n",
              "9996  8      0.345  [76, 100, 121, 140, 159, 178, 199, 223]   \n",
              "9997  5      0.372                [100, 126, 150, 173, 199]   \n",
              "9998  6      0.304            [84, 113, 138, 161, 186, 215]   \n",
              "9999  5      0.445                [106, 129, 150, 170, 193]   \n",
              "\n",
              "                  img_path  \n",
              "0        valid/image_0.png  \n",
              "1        valid/image_1.png  \n",
              "2        valid/image_2.png  \n",
              "3        valid/image_3.png  \n",
              "4        valid/image_4.png  \n",
              "...                    ...  \n",
              "9995  valid/image_9995.png  \n",
              "9996  valid/image_9996.png  \n",
              "9997  valid/image_9997.png  \n",
              "9998  valid/image_9998.png  \n",
              "9999  valid/image_9999.png  \n",
              "\n",
              "[10000 rows x 4 columns]"
            ],
            "text/html": [
              "\n",
              "\n",
              "  <div id=\"df-c27025f4-b9fb-4549-885d-bc91685e5837\">\n",
              "    <div class=\"colab-df-container\">\n",
              "      <div>\n",
              "<style scoped>\n",
              "    .dataframe tbody tr th:only-of-type {\n",
              "        vertical-align: middle;\n",
              "    }\n",
              "\n",
              "    .dataframe tbody tr th {\n",
              "        vertical-align: top;\n",
              "    }\n",
              "\n",
              "    .dataframe thead th {\n",
              "        text-align: right;\n",
              "    }\n",
              "</style>\n",
              "<table border=\"1\" class=\"dataframe\">\n",
              "  <thead>\n",
              "    <tr style=\"text-align: right;\">\n",
              "      <th></th>\n",
              "      <th>n</th>\n",
              "      <th>potential</th>\n",
              "      <th>position</th>\n",
              "      <th>img_path</th>\n",
              "    </tr>\n",
              "  </thead>\n",
              "  <tbody>\n",
              "    <tr>\n",
              "      <th>0</th>\n",
              "      <td>6</td>\n",
              "      <td>0.457</td>\n",
              "      <td>[100, 122, 140, 159, 177, 199]</td>\n",
              "      <td>valid/image_0.png</td>\n",
              "    </tr>\n",
              "    <tr>\n",
              "      <th>1</th>\n",
              "      <td>7</td>\n",
              "      <td>0.291</td>\n",
              "      <td>[74, 102, 127, 150, 172, 197, 225]</td>\n",
              "      <td>valid/image_1.png</td>\n",
              "    </tr>\n",
              "    <tr>\n",
              "      <th>2</th>\n",
              "      <td>6</td>\n",
              "      <td>0.434</td>\n",
              "      <td>[98, 121, 140, 159, 178, 201]</td>\n",
              "      <td>valid/image_2.png</td>\n",
              "    </tr>\n",
              "    <tr>\n",
              "      <th>3</th>\n",
              "      <td>8</td>\n",
              "      <td>0.435</td>\n",
              "      <td>[86, 107, 125, 141, 158, 174, 192, 213]</td>\n",
              "      <td>valid/image_3.png</td>\n",
              "    </tr>\n",
              "    <tr>\n",
              "      <th>4</th>\n",
              "      <td>8</td>\n",
              "      <td>0.401</td>\n",
              "      <td>[83, 105, 124, 141, 158, 175, 194, 216]</td>\n",
              "      <td>valid/image_4.png</td>\n",
              "    </tr>\n",
              "    <tr>\n",
              "      <th>...</th>\n",
              "      <td>...</td>\n",
              "      <td>...</td>\n",
              "      <td>...</td>\n",
              "      <td>...</td>\n",
              "    </tr>\n",
              "    <tr>\n",
              "      <th>9995</th>\n",
              "      <td>6</td>\n",
              "      <td>0.301</td>\n",
              "      <td>[84, 113, 137, 162, 186, 215]</td>\n",
              "      <td>valid/image_9995.png</td>\n",
              "    </tr>\n",
              "    <tr>\n",
              "      <th>9996</th>\n",
              "      <td>8</td>\n",
              "      <td>0.345</td>\n",
              "      <td>[76, 100, 121, 140, 159, 178, 199, 223]</td>\n",
              "      <td>valid/image_9996.png</td>\n",
              "    </tr>\n",
              "    <tr>\n",
              "      <th>9997</th>\n",
              "      <td>5</td>\n",
              "      <td>0.372</td>\n",
              "      <td>[100, 126, 150, 173, 199]</td>\n",
              "      <td>valid/image_9997.png</td>\n",
              "    </tr>\n",
              "    <tr>\n",
              "      <th>9998</th>\n",
              "      <td>6</td>\n",
              "      <td>0.304</td>\n",
              "      <td>[84, 113, 138, 161, 186, 215]</td>\n",
              "      <td>valid/image_9998.png</td>\n",
              "    </tr>\n",
              "    <tr>\n",
              "      <th>9999</th>\n",
              "      <td>5</td>\n",
              "      <td>0.445</td>\n",
              "      <td>[106, 129, 150, 170, 193]</td>\n",
              "      <td>valid/image_9999.png</td>\n",
              "    </tr>\n",
              "  </tbody>\n",
              "</table>\n",
              "<p>10000 rows × 4 columns</p>\n",
              "</div>\n",
              "      <button class=\"colab-df-convert\" onclick=\"convertToInteractive('df-c27025f4-b9fb-4549-885d-bc91685e5837')\"\n",
              "              title=\"Convert this dataframe to an interactive table.\"\n",
              "              style=\"display:none;\">\n",
              "\n",
              "  <svg xmlns=\"http://www.w3.org/2000/svg\" height=\"24px\"viewBox=\"0 0 24 24\"\n",
              "       width=\"24px\">\n",
              "    <path d=\"M0 0h24v24H0V0z\" fill=\"none\"/>\n",
              "    <path d=\"M18.56 5.44l.94 2.06.94-2.06 2.06-.94-2.06-.94-.94-2.06-.94 2.06-2.06.94zm-11 1L8.5 8.5l.94-2.06 2.06-.94-2.06-.94L8.5 2.5l-.94 2.06-2.06.94zm10 10l.94 2.06.94-2.06 2.06-.94-2.06-.94-.94-2.06-.94 2.06-2.06.94z\"/><path d=\"M17.41 7.96l-1.37-1.37c-.4-.4-.92-.59-1.43-.59-.52 0-1.04.2-1.43.59L10.3 9.45l-7.72 7.72c-.78.78-.78 2.05 0 2.83L4 21.41c.39.39.9.59 1.41.59.51 0 1.02-.2 1.41-.59l7.78-7.78 2.81-2.81c.8-.78.8-2.07 0-2.86zM5.41 20L4 18.59l7.72-7.72 1.47 1.35L5.41 20z\"/>\n",
              "  </svg>\n",
              "      </button>\n",
              "\n",
              "\n",
              "\n",
              "    <div id=\"df-77b4ebd1-2aaf-44c5-84a4-55527a229d22\">\n",
              "      <button class=\"colab-df-quickchart\" onclick=\"quickchart('df-77b4ebd1-2aaf-44c5-84a4-55527a229d22')\"\n",
              "              title=\"Suggest charts.\"\n",
              "              style=\"display:none;\">\n",
              "\n",
              "<svg xmlns=\"http://www.w3.org/2000/svg\" height=\"24px\"viewBox=\"0 0 24 24\"\n",
              "     width=\"24px\">\n",
              "    <g>\n",
              "        <path d=\"M19 3H5c-1.1 0-2 .9-2 2v14c0 1.1.9 2 2 2h14c1.1 0 2-.9 2-2V5c0-1.1-.9-2-2-2zM9 17H7v-7h2v7zm4 0h-2V7h2v10zm4 0h-2v-4h2v4z\"/>\n",
              "    </g>\n",
              "</svg>\n",
              "      </button>\n",
              "    </div>\n",
              "\n",
              "<style>\n",
              "  .colab-df-quickchart {\n",
              "    background-color: #E8F0FE;\n",
              "    border: none;\n",
              "    border-radius: 50%;\n",
              "    cursor: pointer;\n",
              "    display: none;\n",
              "    fill: #1967D2;\n",
              "    height: 32px;\n",
              "    padding: 0 0 0 0;\n",
              "    width: 32px;\n",
              "  }\n",
              "\n",
              "  .colab-df-quickchart:hover {\n",
              "    background-color: #E2EBFA;\n",
              "    box-shadow: 0px 1px 2px rgba(60, 64, 67, 0.3), 0px 1px 3px 1px rgba(60, 64, 67, 0.15);\n",
              "    fill: #174EA6;\n",
              "  }\n",
              "\n",
              "  [theme=dark] .colab-df-quickchart {\n",
              "    background-color: #3B4455;\n",
              "    fill: #D2E3FC;\n",
              "  }\n",
              "\n",
              "  [theme=dark] .colab-df-quickchart:hover {\n",
              "    background-color: #434B5C;\n",
              "    box-shadow: 0px 1px 3px 1px rgba(0, 0, 0, 0.15);\n",
              "    filter: drop-shadow(0px 1px 2px rgba(0, 0, 0, 0.3));\n",
              "    fill: #FFFFFF;\n",
              "  }\n",
              "</style>\n",
              "\n",
              "    <script>\n",
              "      async function quickchart(key) {\n",
              "        const containerElement = document.querySelector('#' + key);\n",
              "        const charts = await google.colab.kernel.invokeFunction(\n",
              "            'suggestCharts', [key], {});\n",
              "      }\n",
              "    </script>\n",
              "\n",
              "      <script>\n",
              "\n",
              "function displayQuickchartButton(domScope) {\n",
              "  let quickchartButtonEl =\n",
              "    domScope.querySelector('#df-77b4ebd1-2aaf-44c5-84a4-55527a229d22 button.colab-df-quickchart');\n",
              "  quickchartButtonEl.style.display =\n",
              "    google.colab.kernel.accessAllowed ? 'block' : 'none';\n",
              "}\n",
              "\n",
              "        displayQuickchartButton(document);\n",
              "      </script>\n",
              "      <style>\n",
              "    .colab-df-container {\n",
              "      display:flex;\n",
              "      flex-wrap:wrap;\n",
              "      gap: 12px;\n",
              "    }\n",
              "\n",
              "    .colab-df-convert {\n",
              "      background-color: #E8F0FE;\n",
              "      border: none;\n",
              "      border-radius: 50%;\n",
              "      cursor: pointer;\n",
              "      display: none;\n",
              "      fill: #1967D2;\n",
              "      height: 32px;\n",
              "      padding: 0 0 0 0;\n",
              "      width: 32px;\n",
              "    }\n",
              "\n",
              "    .colab-df-convert:hover {\n",
              "      background-color: #E2EBFA;\n",
              "      box-shadow: 0px 1px 2px rgba(60, 64, 67, 0.3), 0px 1px 3px 1px rgba(60, 64, 67, 0.15);\n",
              "      fill: #174EA6;\n",
              "    }\n",
              "\n",
              "    [theme=dark] .colab-df-convert {\n",
              "      background-color: #3B4455;\n",
              "      fill: #D2E3FC;\n",
              "    }\n",
              "\n",
              "    [theme=dark] .colab-df-convert:hover {\n",
              "      background-color: #434B5C;\n",
              "      box-shadow: 0px 1px 3px 1px rgba(0, 0, 0, 0.15);\n",
              "      filter: drop-shadow(0px 1px 2px rgba(0, 0, 0, 0.3));\n",
              "      fill: #FFFFFF;\n",
              "    }\n",
              "  </style>\n",
              "\n",
              "      <script>\n",
              "        const buttonEl =\n",
              "          document.querySelector('#df-c27025f4-b9fb-4549-885d-bc91685e5837 button.colab-df-convert');\n",
              "        buttonEl.style.display =\n",
              "          google.colab.kernel.accessAllowed ? 'block' : 'none';\n",
              "\n",
              "        async function convertToInteractive(key) {\n",
              "          const element = document.querySelector('#df-c27025f4-b9fb-4549-885d-bc91685e5837');\n",
              "          const dataTable =\n",
              "            await google.colab.kernel.invokeFunction('convertToInteractive',\n",
              "                                                     [key], {});\n",
              "          if (!dataTable) return;\n",
              "\n",
              "          const docLinkHtml = 'Like what you see? Visit the ' +\n",
              "            '<a target=\"_blank\" href=https://colab.research.google.com/notebooks/data_table.ipynb>data table notebook</a>'\n",
              "            + ' to learn more about interactive tables.';\n",
              "          element.innerHTML = '';\n",
              "          dataTable['output_type'] = 'display_data';\n",
              "          await google.colab.output.renderOutput(dataTable, element);\n",
              "          const docLink = document.createElement('div');\n",
              "          docLink.innerHTML = docLinkHtml;\n",
              "          element.appendChild(docLink);\n",
              "        }\n",
              "      </script>\n",
              "    </div>\n",
              "  </div>\n"
            ]
          },
          "metadata": {},
          "execution_count": 7
        }
      ]
    },
    {
      "cell_type": "code",
      "source": [
        "train_data['img_path']"
      ],
      "metadata": {
        "colab": {
          "base_uri": "https://localhost:8080/"
        },
        "id": "TDJDXKJrNfQj",
        "outputId": "20832f0c-b6f5-4b29-e9ff-d4c4915dc241"
      },
      "id": "TDJDXKJrNfQj",
      "execution_count": null,
      "outputs": [
        {
          "output_type": "execute_result",
          "data": {
            "text/plain": [
              "0            train/image_0.png\n",
              "1            train/image_1.png\n",
              "2            train/image_2.png\n",
              "3            train/image_3.png\n",
              "4            train/image_4.png\n",
              "                 ...          \n",
              "59995    train/image_59995.png\n",
              "59996    train/image_59996.png\n",
              "59997    train/image_59997.png\n",
              "59998    train/image_59998.png\n",
              "59999    train/image_59999.png\n",
              "Name: img_path, Length: 60000, dtype: object"
            ]
          },
          "metadata": {},
          "execution_count": 8
        }
      ]
    },
    {
      "cell_type": "code",
      "source": [
        "train_data['img_path'].values"
      ],
      "metadata": {
        "colab": {
          "base_uri": "https://localhost:8080/"
        },
        "id": "fAnmyLuKX5MG",
        "outputId": "a6172380-e746-4efc-ffd6-0b4ceb4a69a5"
      },
      "id": "fAnmyLuKX5MG",
      "execution_count": null,
      "outputs": [
        {
          "output_type": "execute_result",
          "data": {
            "text/plain": [
              "array(['train/image_0.png', 'train/image_1.png', 'train/image_2.png', ...,\n",
              "       'train/image_59997.png', 'train/image_59998.png',\n",
              "       'train/image_59999.png'], dtype=object)"
            ]
          },
          "metadata": {},
          "execution_count": 9
        }
      ]
    },
    {
      "cell_type": "code",
      "source": [
        "np.array(train_data['img_path'])"
      ],
      "metadata": {
        "colab": {
          "base_uri": "https://localhost:8080/"
        },
        "id": "Vq114DmZsyBZ",
        "outputId": "5bdbc19b-e636-4e71-a06f-7bcc650dba1c"
      },
      "id": "Vq114DmZsyBZ",
      "execution_count": null,
      "outputs": [
        {
          "output_type": "execute_result",
          "data": {
            "text/plain": [
              "array(['train/image_0.png', 'train/image_1.png', 'train/image_2.png', ...,\n",
              "       'train/image_59997.png', 'train/image_59998.png',\n",
              "       'train/image_59999.png'], dtype=object)"
            ]
          },
          "metadata": {},
          "execution_count": 10
        }
      ]
    },
    {
      "cell_type": "code",
      "source": [
        "train_data[['n', 'potential']].values"
      ],
      "metadata": {
        "colab": {
          "base_uri": "https://localhost:8080/"
        },
        "id": "Aq1DCiTTs9xZ",
        "outputId": "3029d0e6-8c23-4136-af67-44cd65c50482"
      },
      "id": "Aq1DCiTTs9xZ",
      "execution_count": null,
      "outputs": [
        {
          "output_type": "execute_result",
          "data": {
            "text/plain": [
              "array([[5.   , 0.226],\n",
              "       [7.   , 0.448],\n",
              "       [5.   , 0.341],\n",
              "       ...,\n",
              "       [8.   , 0.266],\n",
              "       [8.   , 0.337],\n",
              "       [6.   , 0.179]])"
            ]
          },
          "metadata": {},
          "execution_count": 11
        }
      ]
    },
    {
      "cell_type": "code",
      "source": [
        "np.array(train_data[['n', 'potential']]) # .values 와 같은 결과"
      ],
      "metadata": {
        "colab": {
          "base_uri": "https://localhost:8080/"
        },
        "id": "tGMt7ISVrnq2",
        "outputId": "a5670292-e3fc-45ff-cc2a-bca244daa1f5"
      },
      "id": "tGMt7ISVrnq2",
      "execution_count": null,
      "outputs": [
        {
          "output_type": "execute_result",
          "data": {
            "text/plain": [
              "array([[5.   , 0.226],\n",
              "       [7.   , 0.448],\n",
              "       [5.   , 0.341],\n",
              "       ...,\n",
              "       [8.   , 0.266],\n",
              "       [8.   , 0.337],\n",
              "       [6.   , 0.179]])"
            ]
          },
          "metadata": {},
          "execution_count": 12
        }
      ]
    },
    {
      "cell_type": "code",
      "source": [
        "data_dir = '/content/drive/My Drive/KUBIG/2023_summer/'"
      ],
      "metadata": {
        "id": "d77BCx7LrVIq"
      },
      "id": "d77BCx7LrVIq",
      "execution_count": null,
      "outputs": []
    },
    {
      "cell_type": "code",
      "source": [
        "# 시도 1\n",
        "class custom_PBL_train_dataset(torch.utils.data.Dataset):\n",
        "    def __init__(self, data_dir, train=True, transform=None):\n",
        "\n",
        "        self.data_dir = data_dir\n",
        "\n",
        "        if train:\n",
        "            self.input_path = train_data['img_path'].values\n",
        "            self.target = train_data[['n', 'potential']].values # 경로가 아닌 그 자체로 target\n",
        "        else:\n",
        "            self.input_path = valid_data['img_path'].values\n",
        "            self.target = valid_data[['n', 'potential']].values # np.array(valid_data[['n', 'potential']])\n",
        "\n",
        "        if transform is None:\n",
        "            self.transform = torch.Tensor\n",
        "        else:\n",
        "            self.transform = transform\n",
        "\n",
        "    def __len__(self):\n",
        "        return len(self.target)\n",
        "\n",
        "    def __getitem__(self, index):\n",
        "\n",
        "        input_file = Image.open(self.data_dir + self.input_path[index])\n",
        "        self.input = np.array(input_file) # idx2numpy 대신 np.array로 array 변환\n",
        "\n",
        "        img = self.transform(self.input)\n",
        "        label = self.transform(self.target[index])\n",
        "\n",
        "        return img, label"
      ],
      "metadata": {
        "id": "giwBih2Gm8Jv"
      },
      "id": "giwBih2Gm8Jv",
      "execution_count": null,
      "outputs": []
    },
    {
      "cell_type": "code",
      "source": [
        "custom_train_data = custom_PBL_train_dataset(data_dir, train=True)\n",
        "custom_test_data = custom_PBL_train_dataset(data_dir, train=False)\n",
        "\n",
        "from torch.utils.data.dataloader import DataLoader\n",
        "\n",
        "train_loader = DataLoader(dataset=custom_train_data, batch_size=16, shuffle=True)\n",
        "test_loader = DataLoader(dataset=custom_test_data, batch_size=16, shuffle=False)"
      ],
      "metadata": {
        "id": "gkM9gYvsaQ-D"
      },
      "id": "gkM9gYvsaQ-D",
      "execution_count": null,
      "outputs": []
    },
    {
      "cell_type": "code",
      "execution_count": null,
      "id": "fe652816",
      "metadata": {
        "id": "fe652816"
      },
      "outputs": [],
      "source": [
        "# input 과 output 의 sampling 확인\n",
        "x, y = next(iter(train_loader))"
      ]
    },
    {
      "cell_type": "code",
      "execution_count": null,
      "id": "c0fe33d3",
      "metadata": {
        "id": "c0fe33d3",
        "colab": {
          "base_uri": "https://localhost:8080/"
        },
        "outputId": "ceea5b3f-1c59-4fe2-a35c-aab9c06853dd"
      },
      "outputs": [
        {
          "output_type": "execute_result",
          "data": {
            "text/plain": [
              "torch.Size([16, 10, 300])"
            ]
          },
          "metadata": {},
          "execution_count": 21
        }
      ],
      "source": [
        "x.shape"
      ]
    },
    {
      "cell_type": "code",
      "source": [
        "y.shape"
      ],
      "metadata": {
        "colab": {
          "base_uri": "https://localhost:8080/"
        },
        "id": "kLAo7WRTuipz",
        "outputId": "e49b22c2-a590-4806-bd8b-fce615b59568"
      },
      "id": "kLAo7WRTuipz",
      "execution_count": 22,
      "outputs": [
        {
          "output_type": "execute_result",
          "data": {
            "text/plain": [
              "torch.Size([16, 2])"
            ]
          },
          "metadata": {},
          "execution_count": 22
        }
      ]
    },
    {
      "cell_type": "code",
      "source": [
        "y[0]"
      ],
      "metadata": {
        "colab": {
          "base_uri": "https://localhost:8080/"
        },
        "id": "rSBro9GsA9ce",
        "outputId": "6a3672c7-7591-450a-b86c-4435d53fdf53"
      },
      "id": "rSBro9GsA9ce",
      "execution_count": 25,
      "outputs": [
        {
          "output_type": "execute_result",
          "data": {
            "text/plain": [
              "tensor([8.0000, 0.3930])"
            ]
          },
          "metadata": {},
          "execution_count": 25
        }
      ]
    },
    {
      "cell_type": "code",
      "source": [
        "# sample된 이미지 출력\n",
        "for i in range(5):\n",
        "    plt.subplot(5, 1, i+1)\n",
        "    plt.imshow(x[i])\n",
        "    plt.title(\"n: {}, potential: {}\".format(y[i][0], y[i][1]))"
      ],
      "metadata": {
        "colab": {
          "base_uri": "https://localhost:8080/",
          "height": 405
        },
        "id": "FAY-FVh2-JdY",
        "outputId": "461d6548-388f-4941-fe68-c33085b24756"
      },
      "id": "FAY-FVh2-JdY",
      "execution_count": 27,
      "outputs": [
        {
          "output_type": "display_data",
          "data": {
            "text/plain": [
              "<Figure size 640x480 with 5 Axes>"
            ],
            "image/png": "[encoded data removed]"
          },
          "metadata": {}
        }
      ]
    },
    {
      "cell_type": "code",
      "source": [],
      "metadata": {
        "id": "7pLypKCa-Jki"
      },
      "id": "7pLypKCa-Jki",
      "execution_count": null,
      "outputs": []
    }
  ],
  "metadata": {
    "kernelspec": {
      "display_name": "Python 3 (ipykernel)",
      "language": "python",
      "name": "python3"
    },
    "language_info": {
      "codemirror_mode": {
        "name": "ipython",
        "version": 3
      },
      "file_extension": ".py",
      "mimetype": "text/x-python",
      "name": "python",
      "nbconvert_exporter": "python",
      "pygments_lexer": "ipython3",
      "version": "3.9.13"
    },
    "colab": {
      "provenance": [],
      "include_colab_link": true
    }
  },
  "nbformat": 4,
  "nbformat_minor": 5
}