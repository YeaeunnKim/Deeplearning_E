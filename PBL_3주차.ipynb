{
  "cells": [
    {
      "cell_type": "markdown",
      "metadata": {
        "id": "view-in-github",
        "colab_type": "text"
      },
      "source": [
        "<a href=\"https://colab.research.google.com/github/YeaeunnKim/Deeplearning_E/blob/main/PBL_3%E1%84%8C%E1%85%AE%E1%84%8E%E1%85%A1.ipynb\" target=\"_parent\"><img src=\"https://colab.research.google.com/assets/colab-badge.svg\" alt=\"Open In Colab\"/></a>"
      ]
    },
    {
      "cell_type": "code",
      "execution_count": 25,
      "metadata": {
        "colab": {
          "base_uri": "https://localhost:8080/"
        },
        "id": "bqIVlwCsWir0",
        "outputId": "dab37b84-3b4f-4876-ac43-d2f3c6c8ebad"
      },
      "outputs": [
        {
          "output_type": "stream",
          "name": "stdout",
          "text": [
            "Requirement already satisfied: idx2numpy in /usr/local/lib/python3.10/dist-packages (1.2.3)\n",
            "Requirement already satisfied: numpy in /usr/local/lib/python3.10/dist-packages (from idx2numpy) (1.22.4)\n",
            "Requirement already satisfied: six in /usr/local/lib/python3.10/dist-packages (from idx2numpy) (1.16.0)\n"
          ]
        }
      ],
      "source": [
        "!pip install idx2numpy"
      ],
      "id": "bqIVlwCsWir0"
    },
    {
      "cell_type": "code",
      "execution_count": 26,
      "metadata": {
        "id": "32a18341"
      },
      "outputs": [],
      "source": [
        "#import gzip\n",
        "import numpy as np\n",
        "import pandas as pd\n",
        "import matplotlib.pyplot as plt\n",
        "import torch\n",
        "import torch.nn as nn\n",
        "import torch.optim as optim\n",
        "import os\n",
        "import glob\n",
        "import pickle\n",
        "from PIL import Image\n",
        "import idx2numpy"
      ],
      "id": "32a18341"
    },
    {
      "cell_type": "code",
      "execution_count": 27,
      "metadata": {
        "colab": {
          "base_uri": "https://localhost:8080/"
        },
        "id": "WWnLNfAyMUkZ",
        "outputId": "891f373c-fa5e-4f06-f57d-03f22493fc82"
      },
      "outputs": [
        {
          "output_type": "stream",
          "name": "stdout",
          "text": [
            "Drive already mounted at /content/drive; to attempt to forcibly remount, call drive.mount(\"/content/drive\", force_remount=True).\n"
          ]
        }
      ],
      "source": [
        "from google.colab import drive\n",
        "drive.mount('/content/drive')"
      ],
      "id": "WWnLNfAyMUkZ"
    },
    {
      "cell_type": "code",
      "source": [
        "os.chdir(\"/content/drive/My Drive/KUBIG/2023_summer/\")"
      ],
      "metadata": {
        "id": "QOBD7BzR_fYo"
      },
      "id": "QOBD7BzR_fYo",
      "execution_count": 28,
      "outputs": []
    },
    {
      "cell_type": "code",
      "execution_count": 29,
      "metadata": {
        "id": "CsswxvqCldNz"
      },
      "outputs": [],
      "source": [
        "#!unzip -qq \"3주차-PBL-data.zip\""
      ],
      "id": "CsswxvqCldNz"
    },
    {
      "cell_type": "markdown",
      "source": [
        "### train, valid 폴더 내 이미지 확인"
      ],
      "metadata": {
        "id": "E23fpf-udzN7"
      },
      "id": "E23fpf-udzN7"
    },
    {
      "cell_type": "code",
      "execution_count": 30,
      "metadata": {
        "colab": {
          "base_uri": "https://localhost:8080/"
        },
        "id": "_NsJnKIr9IAE",
        "outputId": "2e42bb41-b38f-427f-d5f6-1bda982ab400"
      },
      "outputs": [
        {
          "output_type": "execute_result",
          "data": {
            "text/plain": [
              "60003"
            ]
          },
          "metadata": {},
          "execution_count": 30
        }
      ],
      "source": [
        "filepath_train = list(glob.glob('3주차-PBL-data/train/*.png'))\n",
        "len(filepath_train)"
      ],
      "id": "_NsJnKIr9IAE"
    },
    {
      "cell_type": "code",
      "source": [
        "train_new = []\n",
        "for i in range(len(filepath_train)):\n",
        "    train_new.append(filepath_train[i].split('/')[-1].split('_')[-1].split('.')[0])"
      ],
      "metadata": {
        "id": "8mwSyc7ionlD"
      },
      "id": "8mwSyc7ionlD",
      "execution_count": 32,
      "outputs": []
    },
    {
      "cell_type": "code",
      "source": [
        "from collections import Counter\n",
        "count = Counter(train_new)"
      ],
      "metadata": {
        "id": "plW6qph0pcCG"
      },
      "id": "plW6qph0pcCG",
      "execution_count": 44,
      "outputs": []
    },
    {
      "cell_type": "code",
      "source": [
        "key = count.keys()\n",
        "path = pd.DataFrame({'key': key})"
      ],
      "metadata": {
        "id": "ghDg6eVJri1h"
      },
      "id": "ghDg6eVJri1h",
      "execution_count": 45,
      "outputs": []
    },
    {
      "cell_type": "code",
      "source": [
        "path.loc[path['key'] == '9771 (1)']"
      ],
      "metadata": {
        "colab": {
          "base_uri": "https://localhost:8080/",
          "height": 81
        },
        "id": "kQ3d-7qyFGDU",
        "outputId": "450cae8b-59fa-4cf3-cce2-5e3cdde96f25"
      },
      "id": "kQ3d-7qyFGDU",
      "execution_count": 47,
      "outputs": [
        {
          "output_type": "execute_result",
          "data": {
            "text/plain": [
              "            key\n",
              "49262  9771 (1)"
            ],
            "text/html": [
              "\n",
              "\n",
              "  <div id=\"df-051040c8-dd69-42bb-9ce3-217333ab8473\">\n",
              "    <div class=\"colab-df-container\">\n",
              "      <div>\n",
              "<style scoped>\n",
              "    .dataframe tbody tr th:only-of-type {\n",
              "        vertical-align: middle;\n",
              "    }\n",
              "\n",
              "    .dataframe tbody tr th {\n",
              "        vertical-align: top;\n",
              "    }\n",
              "\n",
              "    .dataframe thead th {\n",
              "        text-align: right;\n",
              "    }\n",
              "</style>\n",
              "<table border=\"1\" class=\"dataframe\">\n",
              "  <thead>\n",
              "    <tr style=\"text-align: right;\">\n",
              "      <th></th>\n",
              "      <th>key</th>\n",
              "    </tr>\n",
              "  </thead>\n",
              "  <tbody>\n",
              "    <tr>\n",
              "      <th>49262</th>\n",
              "      <td>9771 (1)</td>\n",
              "    </tr>\n",
              "  </tbody>\n",
              "</table>\n",
              "</div>\n",
              "      <button class=\"colab-df-convert\" onclick=\"convertToInteractive('df-051040c8-dd69-42bb-9ce3-217333ab8473')\"\n",
              "              title=\"Convert this dataframe to an interactive table.\"\n",
              "              style=\"display:none;\">\n",
              "\n",
              "  <svg xmlns=\"http://www.w3.org/2000/svg\" height=\"24px\"viewBox=\"0 0 24 24\"\n",
              "       width=\"24px\">\n",
              "    <path d=\"M0 0h24v24H0V0z\" fill=\"none\"/>\n",
              "    <path d=\"M18.56 5.44l.94 2.06.94-2.06 2.06-.94-2.06-.94-.94-2.06-.94 2.06-2.06.94zm-11 1L8.5 8.5l.94-2.06 2.06-.94-2.06-.94L8.5 2.5l-.94 2.06-2.06.94zm10 10l.94 2.06.94-2.06 2.06-.94-2.06-.94-.94-2.06-.94 2.06-2.06.94z\"/><path d=\"M17.41 7.96l-1.37-1.37c-.4-.4-.92-.59-1.43-.59-.52 0-1.04.2-1.43.59L10.3 9.45l-7.72 7.72c-.78.78-.78 2.05 0 2.83L4 21.41c.39.39.9.59 1.41.59.51 0 1.02-.2 1.41-.59l7.78-7.78 2.81-2.81c.8-.78.8-2.07 0-2.86zM5.41 20L4 18.59l7.72-7.72 1.47 1.35L5.41 20z\"/>\n",
              "  </svg>\n",
              "      </button>\n",
              "\n",
              "\n",
              "\n",
              "    <div id=\"df-0b0ed02b-f80d-451a-bbaa-c467257d1884\">\n",
              "      <button class=\"colab-df-quickchart\" onclick=\"quickchart('df-0b0ed02b-f80d-451a-bbaa-c467257d1884')\"\n",
              "              title=\"Suggest charts.\"\n",
              "              style=\"display:none;\">\n",
              "\n",
              "<svg xmlns=\"http://www.w3.org/2000/svg\" height=\"24px\"viewBox=\"0 0 24 24\"\n",
              "     width=\"24px\">\n",
              "    <g>\n",
              "        <path d=\"M19 3H5c-1.1 0-2 .9-2 2v14c0 1.1.9 2 2 2h14c1.1 0 2-.9 2-2V5c0-1.1-.9-2-2-2zM9 17H7v-7h2v7zm4 0h-2V7h2v10zm4 0h-2v-4h2v4z\"/>\n",
              "    </g>\n",
              "</svg>\n",
              "      </button>\n",
              "    </div>\n",
              "\n",
              "<style>\n",
              "  .colab-df-quickchart {\n",
              "    background-color: #E8F0FE;\n",
              "    border: none;\n",
              "    border-radius: 50%;\n",
              "    cursor: pointer;\n",
              "    display: none;\n",
              "    fill: #1967D2;\n",
              "    height: 32px;\n",
              "    padding: 0 0 0 0;\n",
              "    width: 32px;\n",
              "  }\n",
              "\n",
              "  .colab-df-quickchart:hover {\n",
              "    background-color: #E2EBFA;\n",
              "    box-shadow: 0px 1px 2px rgba(60, 64, 67, 0.3), 0px 1px 3px 1px rgba(60, 64, 67, 0.15);\n",
              "    fill: #174EA6;\n",
              "  }\n",
              "\n",
              "  [theme=dark] .colab-df-quickchart {\n",
              "    background-color: #3B4455;\n",
              "    fill: #D2E3FC;\n",
              "  }\n",
              "\n",
              "  [theme=dark] .colab-df-quickchart:hover {\n",
              "    background-color: #434B5C;\n",
              "    box-shadow: 0px 1px 3px 1px rgba(0, 0, 0, 0.15);\n",
              "    filter: drop-shadow(0px 1px 2px rgba(0, 0, 0, 0.3));\n",
              "    fill: #FFFFFF;\n",
              "  }\n",
              "</style>\n",
              "\n",
              "    <script>\n",
              "      async function quickchart(key) {\n",
              "        const containerElement = document.querySelector('#' + key);\n",
              "        const charts = await google.colab.kernel.invokeFunction(\n",
              "            'suggestCharts', [key], {});\n",
              "      }\n",
              "    </script>\n",
              "\n",
              "      <script>\n",
              "\n",
              "function displayQuickchartButton(domScope) {\n",
              "  let quickchartButtonEl =\n",
              "    domScope.querySelector('#df-0b0ed02b-f80d-451a-bbaa-c467257d1884 button.colab-df-quickchart');\n",
              "  quickchartButtonEl.style.display =\n",
              "    google.colab.kernel.accessAllowed ? 'block' : 'none';\n",
              "}\n",
              "\n",
              "        displayQuickchartButton(document);\n",
              "      </script>\n",
              "      <style>\n",
              "    .colab-df-container {\n",
              "      display:flex;\n",
              "      flex-wrap:wrap;\n",
              "      gap: 12px;\n",
              "    }\n",
              "\n",
              "    .colab-df-convert {\n",
              "      background-color: #E8F0FE;\n",
              "      border: none;\n",
              "      border-radius: 50%;\n",
              "      cursor: pointer;\n",
              "      display: none;\n",
              "      fill: #1967D2;\n",
              "      height: 32px;\n",
              "      padding: 0 0 0 0;\n",
              "      width: 32px;\n",
              "    }\n",
              "\n",
              "    .colab-df-convert:hover {\n",
              "      background-color: #E2EBFA;\n",
              "      box-shadow: 0px 1px 2px rgba(60, 64, 67, 0.3), 0px 1px 3px 1px rgba(60, 64, 67, 0.15);\n",
              "      fill: #174EA6;\n",
              "    }\n",
              "\n",
              "    [theme=dark] .colab-df-convert {\n",
              "      background-color: #3B4455;\n",
              "      fill: #D2E3FC;\n",
              "    }\n",
              "\n",
              "    [theme=dark] .colab-df-convert:hover {\n",
              "      background-color: #434B5C;\n",
              "      box-shadow: 0px 1px 3px 1px rgba(0, 0, 0, 0.15);\n",
              "      filter: drop-shadow(0px 1px 2px rgba(0, 0, 0, 0.3));\n",
              "      fill: #FFFFFF;\n",
              "    }\n",
              "  </style>\n",
              "\n",
              "      <script>\n",
              "        const buttonEl =\n",
              "          document.querySelector('#df-051040c8-dd69-42bb-9ce3-217333ab8473 button.colab-df-convert');\n",
              "        buttonEl.style.display =\n",
              "          google.colab.kernel.accessAllowed ? 'block' : 'none';\n",
              "\n",
              "        async function convertToInteractive(key) {\n",
              "          const element = document.querySelector('#df-051040c8-dd69-42bb-9ce3-217333ab8473');\n",
              "          const dataTable =\n",
              "            await google.colab.kernel.invokeFunction('convertToInteractive',\n",
              "                                                     [key], {});\n",
              "          if (!dataTable) return;\n",
              "\n",
              "          const docLinkHtml = 'Like what you see? Visit the ' +\n",
              "            '<a target=\"_blank\" href=https://colab.research.google.com/notebooks/data_table.ipynb>data table notebook</a>'\n",
              "            + ' to learn more about interactive tables.';\n",
              "          element.innerHTML = '';\n",
              "          dataTable['output_type'] = 'display_data';\n",
              "          await google.colab.output.renderOutput(dataTable, element);\n",
              "          const docLink = document.createElement('div');\n",
              "          docLink.innerHTML = docLinkHtml;\n",
              "          element.appendChild(docLink);\n",
              "        }\n",
              "      </script>\n",
              "    </div>\n",
              "  </div>\n"
            ]
          },
          "metadata": {},
          "execution_count": 47
        }
      ]
    },
    {
      "cell_type": "code",
      "source": [
        "path.loc[path['key'] == '13783 (1)']"
      ],
      "metadata": {
        "colab": {
          "base_uri": "https://localhost:8080/",
          "height": 81
        },
        "id": "HUdfLeS_dkiu",
        "outputId": "1e51f97e-fa46-4f91-e0e0-210f02e560d1"
      },
      "id": "HUdfLeS_dkiu",
      "execution_count": 48,
      "outputs": [
        {
          "output_type": "execute_result",
          "data": {
            "text/plain": [
              "             key\n",
              "53592  13783 (1)"
            ],
            "text/html": [
              "\n",
              "\n",
              "  <div id=\"df-ba595363-cbfd-4ec1-9c9d-9d4637ae0fa0\">\n",
              "    <div class=\"colab-df-container\">\n",
              "      <div>\n",
              "<style scoped>\n",
              "    .dataframe tbody tr th:only-of-type {\n",
              "        vertical-align: middle;\n",
              "    }\n",
              "\n",
              "    .dataframe tbody tr th {\n",
              "        vertical-align: top;\n",
              "    }\n",
              "\n",
              "    .dataframe thead th {\n",
              "        text-align: right;\n",
              "    }\n",
              "</style>\n",
              "<table border=\"1\" class=\"dataframe\">\n",
              "  <thead>\n",
              "    <tr style=\"text-align: right;\">\n",
              "      <th></th>\n",
              "      <th>key</th>\n",
              "    </tr>\n",
              "  </thead>\n",
              "  <tbody>\n",
              "    <tr>\n",
              "      <th>53592</th>\n",
              "      <td>13783 (1)</td>\n",
              "    </tr>\n",
              "  </tbody>\n",
              "</table>\n",
              "</div>\n",
              "      <button class=\"colab-df-convert\" onclick=\"convertToInteractive('df-ba595363-cbfd-4ec1-9c9d-9d4637ae0fa0')\"\n",
              "              title=\"Convert this dataframe to an interactive table.\"\n",
              "              style=\"display:none;\">\n",
              "\n",
              "  <svg xmlns=\"http://www.w3.org/2000/svg\" height=\"24px\"viewBox=\"0 0 24 24\"\n",
              "       width=\"24px\">\n",
              "    <path d=\"M0 0h24v24H0V0z\" fill=\"none\"/>\n",
              "    <path d=\"M18.56 5.44l.94 2.06.94-2.06 2.06-.94-2.06-.94-.94-2.06-.94 2.06-2.06.94zm-11 1L8.5 8.5l.94-2.06 2.06-.94-2.06-.94L8.5 2.5l-.94 2.06-2.06.94zm10 10l.94 2.06.94-2.06 2.06-.94-2.06-.94-.94-2.06-.94 2.06-2.06.94z\"/><path d=\"M17.41 7.96l-1.37-1.37c-.4-.4-.92-.59-1.43-.59-.52 0-1.04.2-1.43.59L10.3 9.45l-7.72 7.72c-.78.78-.78 2.05 0 2.83L4 21.41c.39.39.9.59 1.41.59.51 0 1.02-.2 1.41-.59l7.78-7.78 2.81-2.81c.8-.78.8-2.07 0-2.86zM5.41 20L4 18.59l7.72-7.72 1.47 1.35L5.41 20z\"/>\n",
              "  </svg>\n",
              "      </button>\n",
              "\n",
              "\n",
              "\n",
              "    <div id=\"df-f8c62646-7888-42b9-8347-0a2c278549ea\">\n",
              "      <button class=\"colab-df-quickchart\" onclick=\"quickchart('df-f8c62646-7888-42b9-8347-0a2c278549ea')\"\n",
              "              title=\"Suggest charts.\"\n",
              "              style=\"display:none;\">\n",
              "\n",
              "<svg xmlns=\"http://www.w3.org/2000/svg\" height=\"24px\"viewBox=\"0 0 24 24\"\n",
              "     width=\"24px\">\n",
              "    <g>\n",
              "        <path d=\"M19 3H5c-1.1 0-2 .9-2 2v14c0 1.1.9 2 2 2h14c1.1 0 2-.9 2-2V5c0-1.1-.9-2-2-2zM9 17H7v-7h2v7zm4 0h-2V7h2v10zm4 0h-2v-4h2v4z\"/>\n",
              "    </g>\n",
              "</svg>\n",
              "      </button>\n",
              "    </div>\n",
              "\n",
              "<style>\n",
              "  .colab-df-quickchart {\n",
              "    background-color: #E8F0FE;\n",
              "    border: none;\n",
              "    border-radius: 50%;\n",
              "    cursor: pointer;\n",
              "    display: none;\n",
              "    fill: #1967D2;\n",
              "    height: 32px;\n",
              "    padding: 0 0 0 0;\n",
              "    width: 32px;\n",
              "  }\n",
              "\n",
              "  .colab-df-quickchart:hover {\n",
              "    background-color: #E2EBFA;\n",
              "    box-shadow: 0px 1px 2px rgba(60, 64, 67, 0.3), 0px 1px 3px 1px rgba(60, 64, 67, 0.15);\n",
              "    fill: #174EA6;\n",
              "  }\n",
              "\n",
              "  [theme=dark] .colab-df-quickchart {\n",
              "    background-color: #3B4455;\n",
              "    fill: #D2E3FC;\n",
              "  }\n",
              "\n",
              "  [theme=dark] .colab-df-quickchart:hover {\n",
              "    background-color: #434B5C;\n",
              "    box-shadow: 0px 1px 3px 1px rgba(0, 0, 0, 0.15);\n",
              "    filter: drop-shadow(0px 1px 2px rgba(0, 0, 0, 0.3));\n",
              "    fill: #FFFFFF;\n",
              "  }\n",
              "</style>\n",
              "\n",
              "    <script>\n",
              "      async function quickchart(key) {\n",
              "        const containerElement = document.querySelector('#' + key);\n",
              "        const charts = await google.colab.kernel.invokeFunction(\n",
              "            'suggestCharts', [key], {});\n",
              "      }\n",
              "    </script>\n",
              "\n",
              "      <script>\n",
              "\n",
              "function displayQuickchartButton(domScope) {\n",
              "  let quickchartButtonEl =\n",
              "    domScope.querySelector('#df-f8c62646-7888-42b9-8347-0a2c278549ea button.colab-df-quickchart');\n",
              "  quickchartButtonEl.style.display =\n",
              "    google.colab.kernel.accessAllowed ? 'block' : 'none';\n",
              "}\n",
              "\n",
              "        displayQuickchartButton(document);\n",
              "      </script>\n",
              "      <style>\n",
              "    .colab-df-container {\n",
              "      display:flex;\n",
              "      flex-wrap:wrap;\n",
              "      gap: 12px;\n",
              "    }\n",
              "\n",
              "    .colab-df-convert {\n",
              "      background-color: #E8F0FE;\n",
              "      border: none;\n",
              "      border-radius: 50%;\n",
              "      cursor: pointer;\n",
              "      display: none;\n",
              "      fill: #1967D2;\n",
              "      height: 32px;\n",
              "      padding: 0 0 0 0;\n",
              "      width: 32px;\n",
              "    }\n",
              "\n",
              "    .colab-df-convert:hover {\n",
              "      background-color: #E2EBFA;\n",
              "      box-shadow: 0px 1px 2px rgba(60, 64, 67, 0.3), 0px 1px 3px 1px rgba(60, 64, 67, 0.15);\n",
              "      fill: #174EA6;\n",
              "    }\n",
              "\n",
              "    [theme=dark] .colab-df-convert {\n",
              "      background-color: #3B4455;\n",
              "      fill: #D2E3FC;\n",
              "    }\n",
              "\n",
              "    [theme=dark] .colab-df-convert:hover {\n",
              "      background-color: #434B5C;\n",
              "      box-shadow: 0px 1px 3px 1px rgba(0, 0, 0, 0.15);\n",
              "      filter: drop-shadow(0px 1px 2px rgba(0, 0, 0, 0.3));\n",
              "      fill: #FFFFFF;\n",
              "    }\n",
              "  </style>\n",
              "\n",
              "      <script>\n",
              "        const buttonEl =\n",
              "          document.querySelector('#df-ba595363-cbfd-4ec1-9c9d-9d4637ae0fa0 button.colab-df-convert');\n",
              "        buttonEl.style.display =\n",
              "          google.colab.kernel.accessAllowed ? 'block' : 'none';\n",
              "\n",
              "        async function convertToInteractive(key) {\n",
              "          const element = document.querySelector('#df-ba595363-cbfd-4ec1-9c9d-9d4637ae0fa0');\n",
              "          const dataTable =\n",
              "            await google.colab.kernel.invokeFunction('convertToInteractive',\n",
              "                                                     [key], {});\n",
              "          if (!dataTable) return;\n",
              "\n",
              "          const docLinkHtml = 'Like what you see? Visit the ' +\n",
              "            '<a target=\"_blank\" href=https://colab.research.google.com/notebooks/data_table.ipynb>data table notebook</a>'\n",
              "            + ' to learn more about interactive tables.';\n",
              "          element.innerHTML = '';\n",
              "          dataTable['output_type'] = 'display_data';\n",
              "          await google.colab.output.renderOutput(dataTable, element);\n",
              "          const docLink = document.createElement('div');\n",
              "          docLink.innerHTML = docLinkHtml;\n",
              "          element.appendChild(docLink);\n",
              "        }\n",
              "      </script>\n",
              "    </div>\n",
              "  </div>\n"
            ]
          },
          "metadata": {},
          "execution_count": 48
        }
      ]
    },
    {
      "cell_type": "code",
      "source": [
        "path.loc[path['key'] == '33453 (1)']"
      ],
      "metadata": {
        "colab": {
          "base_uri": "https://localhost:8080/",
          "height": 81
        },
        "id": "IT1WwiD2dkoe",
        "outputId": "eb5670a6-bd12-4f18-8015-5cd2388d34ca"
      },
      "id": "IT1WwiD2dkoe",
      "execution_count": 49,
      "outputs": [
        {
          "output_type": "execute_result",
          "data": {
            "text/plain": [
              "             key\n",
              "44046  33453 (1)"
            ],
            "text/html": [
              "\n",
              "\n",
              "  <div id=\"df-31044643-b78d-4f0f-90a0-ea23d0af1fd1\">\n",
              "    <div class=\"colab-df-container\">\n",
              "      <div>\n",
              "<style scoped>\n",
              "    .dataframe tbody tr th:only-of-type {\n",
              "        vertical-align: middle;\n",
              "    }\n",
              "\n",
              "    .dataframe tbody tr th {\n",
              "        vertical-align: top;\n",
              "    }\n",
              "\n",
              "    .dataframe thead th {\n",
              "        text-align: right;\n",
              "    }\n",
              "</style>\n",
              "<table border=\"1\" class=\"dataframe\">\n",
              "  <thead>\n",
              "    <tr style=\"text-align: right;\">\n",
              "      <th></th>\n",
              "      <th>key</th>\n",
              "    </tr>\n",
              "  </thead>\n",
              "  <tbody>\n",
              "    <tr>\n",
              "      <th>44046</th>\n",
              "      <td>33453 (1)</td>\n",
              "    </tr>\n",
              "  </tbody>\n",
              "</table>\n",
              "</div>\n",
              "      <button class=\"colab-df-convert\" onclick=\"convertToInteractive('df-31044643-b78d-4f0f-90a0-ea23d0af1fd1')\"\n",
              "              title=\"Convert this dataframe to an interactive table.\"\n",
              "              style=\"display:none;\">\n",
              "\n",
              "  <svg xmlns=\"http://www.w3.org/2000/svg\" height=\"24px\"viewBox=\"0 0 24 24\"\n",
              "       width=\"24px\">\n",
              "    <path d=\"M0 0h24v24H0V0z\" fill=\"none\"/>\n",
              "    <path d=\"M18.56 5.44l.94 2.06.94-2.06 2.06-.94-2.06-.94-.94-2.06-.94 2.06-2.06.94zm-11 1L8.5 8.5l.94-2.06 2.06-.94-2.06-.94L8.5 2.5l-.94 2.06-2.06.94zm10 10l.94 2.06.94-2.06 2.06-.94-2.06-.94-.94-2.06-.94 2.06-2.06.94z\"/><path d=\"M17.41 7.96l-1.37-1.37c-.4-.4-.92-.59-1.43-.59-.52 0-1.04.2-1.43.59L10.3 9.45l-7.72 7.72c-.78.78-.78 2.05 0 2.83L4 21.41c.39.39.9.59 1.41.59.51 0 1.02-.2 1.41-.59l7.78-7.78 2.81-2.81c.8-.78.8-2.07 0-2.86zM5.41 20L4 18.59l7.72-7.72 1.47 1.35L5.41 20z\"/>\n",
              "  </svg>\n",
              "      </button>\n",
              "\n",
              "\n",
              "\n",
              "    <div id=\"df-a43bea82-36e5-450c-b394-45785cd7048d\">\n",
              "      <button class=\"colab-df-quickchart\" onclick=\"quickchart('df-a43bea82-36e5-450c-b394-45785cd7048d')\"\n",
              "              title=\"Suggest charts.\"\n",
              "              style=\"display:none;\">\n",
              "\n",
              "<svg xmlns=\"http://www.w3.org/2000/svg\" height=\"24px\"viewBox=\"0 0 24 24\"\n",
              "     width=\"24px\">\n",
              "    <g>\n",
              "        <path d=\"M19 3H5c-1.1 0-2 .9-2 2v14c0 1.1.9 2 2 2h14c1.1 0 2-.9 2-2V5c0-1.1-.9-2-2-2zM9 17H7v-7h2v7zm4 0h-2V7h2v10zm4 0h-2v-4h2v4z\"/>\n",
              "    </g>\n",
              "</svg>\n",
              "      </button>\n",
              "    </div>\n",
              "\n",
              "<style>\n",
              "  .colab-df-quickchart {\n",
              "    background-color: #E8F0FE;\n",
              "    border: none;\n",
              "    border-radius: 50%;\n",
              "    cursor: pointer;\n",
              "    display: none;\n",
              "    fill: #1967D2;\n",
              "    height: 32px;\n",
              "    padding: 0 0 0 0;\n",
              "    width: 32px;\n",
              "  }\n",
              "\n",
              "  .colab-df-quickchart:hover {\n",
              "    background-color: #E2EBFA;\n",
              "    box-shadow: 0px 1px 2px rgba(60, 64, 67, 0.3), 0px 1px 3px 1px rgba(60, 64, 67, 0.15);\n",
              "    fill: #174EA6;\n",
              "  }\n",
              "\n",
              "  [theme=dark] .colab-df-quickchart {\n",
              "    background-color: #3B4455;\n",
              "    fill: #D2E3FC;\n",
              "  }\n",
              "\n",
              "  [theme=dark] .colab-df-quickchart:hover {\n",
              "    background-color: #434B5C;\n",
              "    box-shadow: 0px 1px 3px 1px rgba(0, 0, 0, 0.15);\n",
              "    filter: drop-shadow(0px 1px 2px rgba(0, 0, 0, 0.3));\n",
              "    fill: #FFFFFF;\n",
              "  }\n",
              "</style>\n",
              "\n",
              "    <script>\n",
              "      async function quickchart(key) {\n",
              "        const containerElement = document.querySelector('#' + key);\n",
              "        const charts = await google.colab.kernel.invokeFunction(\n",
              "            'suggestCharts', [key], {});\n",
              "      }\n",
              "    </script>\n",
              "\n",
              "      <script>\n",
              "\n",
              "function displayQuickchartButton(domScope) {\n",
              "  let quickchartButtonEl =\n",
              "    domScope.querySelector('#df-a43bea82-36e5-450c-b394-45785cd7048d button.colab-df-quickchart');\n",
              "  quickchartButtonEl.style.display =\n",
              "    google.colab.kernel.accessAllowed ? 'block' : 'none';\n",
              "}\n",
              "\n",
              "        displayQuickchartButton(document);\n",
              "      </script>\n",
              "      <style>\n",
              "    .colab-df-container {\n",
              "      display:flex;\n",
              "      flex-wrap:wrap;\n",
              "      gap: 12px;\n",
              "    }\n",
              "\n",
              "    .colab-df-convert {\n",
              "      background-color: #E8F0FE;\n",
              "      border: none;\n",
              "      border-radius: 50%;\n",
              "      cursor: pointer;\n",
              "      display: none;\n",
              "      fill: #1967D2;\n",
              "      height: 32px;\n",
              "      padding: 0 0 0 0;\n",
              "      width: 32px;\n",
              "    }\n",
              "\n",
              "    .colab-df-convert:hover {\n",
              "      background-color: #E2EBFA;\n",
              "      box-shadow: 0px 1px 2px rgba(60, 64, 67, 0.3), 0px 1px 3px 1px rgba(60, 64, 67, 0.15);\n",
              "      fill: #174EA6;\n",
              "    }\n",
              "\n",
              "    [theme=dark] .colab-df-convert {\n",
              "      background-color: #3B4455;\n",
              "      fill: #D2E3FC;\n",
              "    }\n",
              "\n",
              "    [theme=dark] .colab-df-convert:hover {\n",
              "      background-color: #434B5C;\n",
              "      box-shadow: 0px 1px 3px 1px rgba(0, 0, 0, 0.15);\n",
              "      filter: drop-shadow(0px 1px 2px rgba(0, 0, 0, 0.3));\n",
              "      fill: #FFFFFF;\n",
              "    }\n",
              "  </style>\n",
              "\n",
              "      <script>\n",
              "        const buttonEl =\n",
              "          document.querySelector('#df-31044643-b78d-4f0f-90a0-ea23d0af1fd1 button.colab-df-convert');\n",
              "        buttonEl.style.display =\n",
              "          google.colab.kernel.accessAllowed ? 'block' : 'none';\n",
              "\n",
              "        async function convertToInteractive(key) {\n",
              "          const element = document.querySelector('#df-31044643-b78d-4f0f-90a0-ea23d0af1fd1');\n",
              "          const dataTable =\n",
              "            await google.colab.kernel.invokeFunction('convertToInteractive',\n",
              "                                                     [key], {});\n",
              "          if (!dataTable) return;\n",
              "\n",
              "          const docLinkHtml = 'Like what you see? Visit the ' +\n",
              "            '<a target=\"_blank\" href=https://colab.research.google.com/notebooks/data_table.ipynb>data table notebook</a>'\n",
              "            + ' to learn more about interactive tables.';\n",
              "          element.innerHTML = '';\n",
              "          dataTable['output_type'] = 'display_data';\n",
              "          await google.colab.output.renderOutput(dataTable, element);\n",
              "          const docLink = document.createElement('div');\n",
              "          docLink.innerHTML = docLinkHtml;\n",
              "          element.appendChild(docLink);\n",
              "        }\n",
              "      </script>\n",
              "    </div>\n",
              "  </div>\n"
            ]
          },
          "metadata": {},
          "execution_count": 49
        }
      ]
    },
    {
      "cell_type": "code",
      "source": [
        "\"\"\"\n",
        "path.loc[[44046]] = '33453'\n",
        "path.loc[[53592]] = '13783'\n",
        "path.loc[[49262]] = '9771'\n",
        "\"\"\""
      ],
      "metadata": {
        "id": "xZhb3rB-Az2J"
      },
      "id": "xZhb3rB-Az2J",
      "execution_count": 39,
      "outputs": []
    },
    {
      "cell_type": "code",
      "source": [
        "path['name'] = path['key'].apply(lambda x: int(x))"
      ],
      "metadata": {
        "id": "FQ45JaTzslrP"
      },
      "id": "FQ45JaTzslrP",
      "execution_count": 40,
      "outputs": []
    },
    {
      "cell_type": "code",
      "source": [
        "path = path.sort_values(by='name', ascending=True)\n",
        "path.reset_index(drop=True, inplace=True)"
      ],
      "metadata": {
        "id": "GTnceRrFpvsi"
      },
      "id": "GTnceRrFpvsi",
      "execution_count": 41,
      "outputs": []
    },
    {
      "cell_type": "code",
      "source": [
        "len(np.unique(path['name']))"
      ],
      "metadata": {
        "colab": {
          "base_uri": "https://localhost:8080/"
        },
        "id": "YtSeOvTnFf-k",
        "outputId": "2f0a835c-00aa-42f6-eeb8-cbd328bd61af"
      },
      "id": "YtSeOvTnFf-k",
      "execution_count": 42,
      "outputs": [
        {
          "output_type": "execute_result",
          "data": {
            "text/plain": [
              "60000"
            ]
          },
          "metadata": {},
          "execution_count": 42
        }
      ]
    },
    {
      "cell_type": "code",
      "source": [
        "for i in range(60000):\n",
        "    if i not in np.unique(path['name']):\n",
        "        print(i)"
      ],
      "metadata": {
        "colab": {
          "base_uri": "https://localhost:8080/"
        },
        "id": "mUOr0bHHnJhI",
        "outputId": "f8cbd66d-0016-4b96-d299-b09994f405e6"
      },
      "id": "mUOr0bHHnJhI",
      "execution_count": 53,
      "outputs": [
        {
          "output_type": "stream",
          "name": "stdout",
          "text": [
            "59932\n"
          ]
        }
      ]
    },
    {
      "cell_type": "code",
      "execution_count": 6,
      "metadata": {
        "colab": {
          "base_uri": "https://localhost:8080/"
        },
        "id": "3XuhKAAX8dE8",
        "outputId": "546f8ef2-fe1e-4df6-cb30-ac55a991477f"
      },
      "outputs": [
        {
          "output_type": "execute_result",
          "data": {
            "text/plain": [
              "10000"
            ]
          },
          "metadata": {},
          "execution_count": 6
        }
      ],
      "source": [
        "filepath_valid = list(glob.glob('3주차-PBL-data/valid/*.png'))\n",
        "len(filepath_valid)"
      ],
      "id": "3XuhKAAX8dE8"
    },
    {
      "cell_type": "markdown",
      "source": [
        "### pickle 파일 확인"
      ],
      "metadata": {
        "id": "scuS3nRNeTDt"
      },
      "id": "scuS3nRNeTDt"
    },
    {
      "cell_type": "code",
      "execution_count": 50,
      "metadata": {
        "colab": {
          "base_uri": "https://localhost:8080/",
          "height": 424
        },
        "id": "VznMvnK6MMIp",
        "outputId": "4ade1a5d-a670-420e-82ad-74dca555d336"
      },
      "outputs": [
        {
          "output_type": "execute_result",
          "data": {
            "text/plain": [
              "       n  potential                                 position  \\\n",
              "0      5      0.226                 [81, 117, 150, 182, 218]   \n",
              "1      7      0.448       [93, 114, 132, 150, 167, 185, 206]   \n",
              "2      5      0.341                 [97, 125, 150, 174, 202]   \n",
              "3      8      0.390  [82, 104, 123, 141, 158, 176, 195, 217]   \n",
              "4      8      0.404  [83, 105, 124, 141, 158, 175, 194, 216]   \n",
              "...   ..        ...                                      ...   \n",
              "59995  6      0.369            [92, 117, 139, 160, 182, 207]   \n",
              "59996  8      0.320   [72, 98, 119, 140, 159, 180, 201, 227]   \n",
              "59997  8      0.266   [62, 91, 115, 138, 161, 184, 208, 237]   \n",
              "59998  8      0.337   [75, 99, 120, 140, 159, 179, 200, 224]   \n",
              "59999  6      0.179             [57, 97, 132, 167, 202, 242]   \n",
              "\n",
              "                    img_path  \n",
              "0          train/image_0.png  \n",
              "1          train/image_1.png  \n",
              "2          train/image_2.png  \n",
              "3          train/image_3.png  \n",
              "4          train/image_4.png  \n",
              "...                      ...  \n",
              "59995  train/image_59995.png  \n",
              "59996  train/image_59996.png  \n",
              "59997  train/image_59997.png  \n",
              "59998  train/image_59998.png  \n",
              "59999  train/image_59999.png  \n",
              "\n",
              "[60000 rows x 4 columns]"
            ],
            "text/html": [
              "\n",
              "\n",
              "  <div id=\"df-638544df-ef8b-48b5-a8d3-debb0c988d2d\">\n",
              "    <div class=\"colab-df-container\">\n",
              "      <div>\n",
              "<style scoped>\n",
              "    .dataframe tbody tr th:only-of-type {\n",
              "        vertical-align: middle;\n",
              "    }\n",
              "\n",
              "    .dataframe tbody tr th {\n",
              "        vertical-align: top;\n",
              "    }\n",
              "\n",
              "    .dataframe thead th {\n",
              "        text-align: right;\n",
              "    }\n",
              "</style>\n",
              "<table border=\"1\" class=\"dataframe\">\n",
              "  <thead>\n",
              "    <tr style=\"text-align: right;\">\n",
              "      <th></th>\n",
              "      <th>n</th>\n",
              "      <th>potential</th>\n",
              "      <th>position</th>\n",
              "      <th>img_path</th>\n",
              "    </tr>\n",
              "  </thead>\n",
              "  <tbody>\n",
              "    <tr>\n",
              "      <th>0</th>\n",
              "      <td>5</td>\n",
              "      <td>0.226</td>\n",
              "      <td>[81, 117, 150, 182, 218]</td>\n",
              "      <td>train/image_0.png</td>\n",
              "    </tr>\n",
              "    <tr>\n",
              "      <th>1</th>\n",
              "      <td>7</td>\n",
              "      <td>0.448</td>\n",
              "      <td>[93, 114, 132, 150, 167, 185, 206]</td>\n",
              "      <td>train/image_1.png</td>\n",
              "    </tr>\n",
              "    <tr>\n",
              "      <th>2</th>\n",
              "      <td>5</td>\n",
              "      <td>0.341</td>\n",
              "      <td>[97, 125, 150, 174, 202]</td>\n",
              "      <td>train/image_2.png</td>\n",
              "    </tr>\n",
              "    <tr>\n",
              "      <th>3</th>\n",
              "      <td>8</td>\n",
              "      <td>0.390</td>\n",
              "      <td>[82, 104, 123, 141, 158, 176, 195, 217]</td>\n",
              "      <td>train/image_3.png</td>\n",
              "    </tr>\n",
              "    <tr>\n",
              "      <th>4</th>\n",
              "      <td>8</td>\n",
              "      <td>0.404</td>\n",
              "      <td>[83, 105, 124, 141, 158, 175, 194, 216]</td>\n",
              "      <td>train/image_4.png</td>\n",
              "    </tr>\n",
              "    <tr>\n",
              "      <th>...</th>\n",
              "      <td>...</td>\n",
              "      <td>...</td>\n",
              "      <td>...</td>\n",
              "      <td>...</td>\n",
              "    </tr>\n",
              "    <tr>\n",
              "      <th>59995</th>\n",
              "      <td>6</td>\n",
              "      <td>0.369</td>\n",
              "      <td>[92, 117, 139, 160, 182, 207]</td>\n",
              "      <td>train/image_59995.png</td>\n",
              "    </tr>\n",
              "    <tr>\n",
              "      <th>59996</th>\n",
              "      <td>8</td>\n",
              "      <td>0.320</td>\n",
              "      <td>[72, 98, 119, 140, 159, 180, 201, 227]</td>\n",
              "      <td>train/image_59996.png</td>\n",
              "    </tr>\n",
              "    <tr>\n",
              "      <th>59997</th>\n",
              "      <td>8</td>\n",
              "      <td>0.266</td>\n",
              "      <td>[62, 91, 115, 138, 161, 184, 208, 237]</td>\n",
              "      <td>train/image_59997.png</td>\n",
              "    </tr>\n",
              "    <tr>\n",
              "      <th>59998</th>\n",
              "      <td>8</td>\n",
              "      <td>0.337</td>\n",
              "      <td>[75, 99, 120, 140, 159, 179, 200, 224]</td>\n",
              "      <td>train/image_59998.png</td>\n",
              "    </tr>\n",
              "    <tr>\n",
              "      <th>59999</th>\n",
              "      <td>6</td>\n",
              "      <td>0.179</td>\n",
              "      <td>[57, 97, 132, 167, 202, 242]</td>\n",
              "      <td>train/image_59999.png</td>\n",
              "    </tr>\n",
              "  </tbody>\n",
              "</table>\n",
              "<p>60000 rows × 4 columns</p>\n",
              "</div>\n",
              "      <button class=\"colab-df-convert\" onclick=\"convertToInteractive('df-638544df-ef8b-48b5-a8d3-debb0c988d2d')\"\n",
              "              title=\"Convert this dataframe to an interactive table.\"\n",
              "              style=\"display:none;\">\n",
              "\n",
              "  <svg xmlns=\"http://www.w3.org/2000/svg\" height=\"24px\"viewBox=\"0 0 24 24\"\n",
              "       width=\"24px\">\n",
              "    <path d=\"M0 0h24v24H0V0z\" fill=\"none\"/>\n",
              "    <path d=\"M18.56 5.44l.94 2.06.94-2.06 2.06-.94-2.06-.94-.94-2.06-.94 2.06-2.06.94zm-11 1L8.5 8.5l.94-2.06 2.06-.94-2.06-.94L8.5 2.5l-.94 2.06-2.06.94zm10 10l.94 2.06.94-2.06 2.06-.94-2.06-.94-.94-2.06-.94 2.06-2.06.94z\"/><path d=\"M17.41 7.96l-1.37-1.37c-.4-.4-.92-.59-1.43-.59-.52 0-1.04.2-1.43.59L10.3 9.45l-7.72 7.72c-.78.78-.78 2.05 0 2.83L4 21.41c.39.39.9.59 1.41.59.51 0 1.02-.2 1.41-.59l7.78-7.78 2.81-2.81c.8-.78.8-2.07 0-2.86zM5.41 20L4 18.59l7.72-7.72 1.47 1.35L5.41 20z\"/>\n",
              "  </svg>\n",
              "      </button>\n",
              "\n",
              "\n",
              "\n",
              "    <div id=\"df-6bb94220-a214-43b2-ac70-0a8b84ba4e84\">\n",
              "      <button class=\"colab-df-quickchart\" onclick=\"quickchart('df-6bb94220-a214-43b2-ac70-0a8b84ba4e84')\"\n",
              "              title=\"Suggest charts.\"\n",
              "              style=\"display:none;\">\n",
              "\n",
              "<svg xmlns=\"http://www.w3.org/2000/svg\" height=\"24px\"viewBox=\"0 0 24 24\"\n",
              "     width=\"24px\">\n",
              "    <g>\n",
              "        <path d=\"M19 3H5c-1.1 0-2 .9-2 2v14c0 1.1.9 2 2 2h14c1.1 0 2-.9 2-2V5c0-1.1-.9-2-2-2zM9 17H7v-7h2v7zm4 0h-2V7h2v10zm4 0h-2v-4h2v4z\"/>\n",
              "    </g>\n",
              "</svg>\n",
              "      </button>\n",
              "    </div>\n",
              "\n",
              "<style>\n",
              "  .colab-df-quickchart {\n",
              "    background-color: #E8F0FE;\n",
              "    border: none;\n",
              "    border-radius: 50%;\n",
              "    cursor: pointer;\n",
              "    display: none;\n",
              "    fill: #1967D2;\n",
              "    height: 32px;\n",
              "    padding: 0 0 0 0;\n",
              "    width: 32px;\n",
              "  }\n",
              "\n",
              "  .colab-df-quickchart:hover {\n",
              "    background-color: #E2EBFA;\n",
              "    box-shadow: 0px 1px 2px rgba(60, 64, 67, 0.3), 0px 1px 3px 1px rgba(60, 64, 67, 0.15);\n",
              "    fill: #174EA6;\n",
              "  }\n",
              "\n",
              "  [theme=dark] .colab-df-quickchart {\n",
              "    background-color: #3B4455;\n",
              "    fill: #D2E3FC;\n",
              "  }\n",
              "\n",
              "  [theme=dark] .colab-df-quickchart:hover {\n",
              "    background-color: #434B5C;\n",
              "    box-shadow: 0px 1px 3px 1px rgba(0, 0, 0, 0.15);\n",
              "    filter: drop-shadow(0px 1px 2px rgba(0, 0, 0, 0.3));\n",
              "    fill: #FFFFFF;\n",
              "  }\n",
              "</style>\n",
              "\n",
              "    <script>\n",
              "      async function quickchart(key) {\n",
              "        const containerElement = document.querySelector('#' + key);\n",
              "        const charts = await google.colab.kernel.invokeFunction(\n",
              "            'suggestCharts', [key], {});\n",
              "      }\n",
              "    </script>\n",
              "\n",
              "      <script>\n",
              "\n",
              "function displayQuickchartButton(domScope) {\n",
              "  let quickchartButtonEl =\n",
              "    domScope.querySelector('#df-6bb94220-a214-43b2-ac70-0a8b84ba4e84 button.colab-df-quickchart');\n",
              "  quickchartButtonEl.style.display =\n",
              "    google.colab.kernel.accessAllowed ? 'block' : 'none';\n",
              "}\n",
              "\n",
              "        displayQuickchartButton(document);\n",
              "      </script>\n",
              "      <style>\n",
              "    .colab-df-container {\n",
              "      display:flex;\n",
              "      flex-wrap:wrap;\n",
              "      gap: 12px;\n",
              "    }\n",
              "\n",
              "    .colab-df-convert {\n",
              "      background-color: #E8F0FE;\n",
              "      border: none;\n",
              "      border-radius: 50%;\n",
              "      cursor: pointer;\n",
              "      display: none;\n",
              "      fill: #1967D2;\n",
              "      height: 32px;\n",
              "      padding: 0 0 0 0;\n",
              "      width: 32px;\n",
              "    }\n",
              "\n",
              "    .colab-df-convert:hover {\n",
              "      background-color: #E2EBFA;\n",
              "      box-shadow: 0px 1px 2px rgba(60, 64, 67, 0.3), 0px 1px 3px 1px rgba(60, 64, 67, 0.15);\n",
              "      fill: #174EA6;\n",
              "    }\n",
              "\n",
              "    [theme=dark] .colab-df-convert {\n",
              "      background-color: #3B4455;\n",
              "      fill: #D2E3FC;\n",
              "    }\n",
              "\n",
              "    [theme=dark] .colab-df-convert:hover {\n",
              "      background-color: #434B5C;\n",
              "      box-shadow: 0px 1px 3px 1px rgba(0, 0, 0, 0.15);\n",
              "      filter: drop-shadow(0px 1px 2px rgba(0, 0, 0, 0.3));\n",
              "      fill: #FFFFFF;\n",
              "    }\n",
              "  </style>\n",
              "\n",
              "      <script>\n",
              "        const buttonEl =\n",
              "          document.querySelector('#df-638544df-ef8b-48b5-a8d3-debb0c988d2d button.colab-df-convert');\n",
              "        buttonEl.style.display =\n",
              "          google.colab.kernel.accessAllowed ? 'block' : 'none';\n",
              "\n",
              "        async function convertToInteractive(key) {\n",
              "          const element = document.querySelector('#df-638544df-ef8b-48b5-a8d3-debb0c988d2d');\n",
              "          const dataTable =\n",
              "            await google.colab.kernel.invokeFunction('convertToInteractive',\n",
              "                                                     [key], {});\n",
              "          if (!dataTable) return;\n",
              "\n",
              "          const docLinkHtml = 'Like what you see? Visit the ' +\n",
              "            '<a target=\"_blank\" href=https://colab.research.google.com/notebooks/data_table.ipynb>data table notebook</a>'\n",
              "            + ' to learn more about interactive tables.';\n",
              "          element.innerHTML = '';\n",
              "          dataTable['output_type'] = 'display_data';\n",
              "          await google.colab.output.renderOutput(dataTable, element);\n",
              "          const docLink = document.createElement('div');\n",
              "          docLink.innerHTML = docLinkHtml;\n",
              "          element.appendChild(docLink);\n",
              "        }\n",
              "      </script>\n",
              "    </div>\n",
              "  </div>\n"
            ]
          },
          "metadata": {},
          "execution_count": 50
        }
      ],
      "source": [
        "with open('train.pkl', 'rb') as f:\n",
        "    train_data = pickle.load(f)\n",
        "\n",
        "train_data"
      ],
      "id": "VznMvnK6MMIp"
    },
    {
      "cell_type": "code",
      "execution_count": 51,
      "metadata": {
        "colab": {
          "base_uri": "https://localhost:8080/",
          "height": 424
        },
        "id": "YVoqd-2bM7Jo",
        "outputId": "15c95776-276b-4e6a-af9d-b35c2470b100"
      },
      "outputs": [
        {
          "output_type": "execute_result",
          "data": {
            "text/plain": [
              "      n  potential                                 position  \\\n",
              "0     6      0.457           [100, 122, 140, 159, 177, 199]   \n",
              "1     7      0.291       [74, 102, 127, 150, 172, 197, 225]   \n",
              "2     6      0.434            [98, 121, 140, 159, 178, 201]   \n",
              "3     8      0.435  [86, 107, 125, 141, 158, 174, 192, 213]   \n",
              "4     8      0.401  [83, 105, 124, 141, 158, 175, 194, 216]   \n",
              "...  ..        ...                                      ...   \n",
              "9995  6      0.301            [84, 113, 137, 162, 186, 215]   \n",
              "9996  8      0.345  [76, 100, 121, 140, 159, 178, 199, 223]   \n",
              "9997  5      0.372                [100, 126, 150, 173, 199]   \n",
              "9998  6      0.304            [84, 113, 138, 161, 186, 215]   \n",
              "9999  5      0.445                [106, 129, 150, 170, 193]   \n",
              "\n",
              "                  img_path  \n",
              "0        valid/image_0.png  \n",
              "1        valid/image_1.png  \n",
              "2        valid/image_2.png  \n",
              "3        valid/image_3.png  \n",
              "4        valid/image_4.png  \n",
              "...                    ...  \n",
              "9995  valid/image_9995.png  \n",
              "9996  valid/image_9996.png  \n",
              "9997  valid/image_9997.png  \n",
              "9998  valid/image_9998.png  \n",
              "9999  valid/image_9999.png  \n",
              "\n",
              "[10000 rows x 4 columns]"
            ],
            "text/html": [
              "\n",
              "\n",
              "  <div id=\"df-cd1bc778-b0f2-4837-a83a-952b9385e454\">\n",
              "    <div class=\"colab-df-container\">\n",
              "      <div>\n",
              "<style scoped>\n",
              "    .dataframe tbody tr th:only-of-type {\n",
              "        vertical-align: middle;\n",
              "    }\n",
              "\n",
              "    .dataframe tbody tr th {\n",
              "        vertical-align: top;\n",
              "    }\n",
              "\n",
              "    .dataframe thead th {\n",
              "        text-align: right;\n",
              "    }\n",
              "</style>\n",
              "<table border=\"1\" class=\"dataframe\">\n",
              "  <thead>\n",
              "    <tr style=\"text-align: right;\">\n",
              "      <th></th>\n",
              "      <th>n</th>\n",
              "      <th>potential</th>\n",
              "      <th>position</th>\n",
              "      <th>img_path</th>\n",
              "    </tr>\n",
              "  </thead>\n",
              "  <tbody>\n",
              "    <tr>\n",
              "      <th>0</th>\n",
              "      <td>6</td>\n",
              "      <td>0.457</td>\n",
              "      <td>[100, 122, 140, 159, 177, 199]</td>\n",
              "      <td>valid/image_0.png</td>\n",
              "    </tr>\n",
              "    <tr>\n",
              "      <th>1</th>\n",
              "      <td>7</td>\n",
              "      <td>0.291</td>\n",
              "      <td>[74, 102, 127, 150, 172, 197, 225]</td>\n",
              "      <td>valid/image_1.png</td>\n",
              "    </tr>\n",
              "    <tr>\n",
              "      <th>2</th>\n",
              "      <td>6</td>\n",
              "      <td>0.434</td>\n",
              "      <td>[98, 121, 140, 159, 178, 201]</td>\n",
              "      <td>valid/image_2.png</td>\n",
              "    </tr>\n",
              "    <tr>\n",
              "      <th>3</th>\n",
              "      <td>8</td>\n",
              "      <td>0.435</td>\n",
              "      <td>[86, 107, 125, 141, 158, 174, 192, 213]</td>\n",
              "      <td>valid/image_3.png</td>\n",
              "    </tr>\n",
              "    <tr>\n",
              "      <th>4</th>\n",
              "      <td>8</td>\n",
              "      <td>0.401</td>\n",
              "      <td>[83, 105, 124, 141, 158, 175, 194, 216]</td>\n",
              "      <td>valid/image_4.png</td>\n",
              "    </tr>\n",
              "    <tr>\n",
              "      <th>...</th>\n",
              "      <td>...</td>\n",
              "      <td>...</td>\n",
              "      <td>...</td>\n",
              "      <td>...</td>\n",
              "    </tr>\n",
              "    <tr>\n",
              "      <th>9995</th>\n",
              "      <td>6</td>\n",
              "      <td>0.301</td>\n",
              "      <td>[84, 113, 137, 162, 186, 215]</td>\n",
              "      <td>valid/image_9995.png</td>\n",
              "    </tr>\n",
              "    <tr>\n",
              "      <th>9996</th>\n",
              "      <td>8</td>\n",
              "      <td>0.345</td>\n",
              "      <td>[76, 100, 121, 140, 159, 178, 199, 223]</td>\n",
              "      <td>valid/image_9996.png</td>\n",
              "    </tr>\n",
              "    <tr>\n",
              "      <th>9997</th>\n",
              "      <td>5</td>\n",
              "      <td>0.372</td>\n",
              "      <td>[100, 126, 150, 173, 199]</td>\n",
              "      <td>valid/image_9997.png</td>\n",
              "    </tr>\n",
              "    <tr>\n",
              "      <th>9998</th>\n",
              "      <td>6</td>\n",
              "      <td>0.304</td>\n",
              "      <td>[84, 113, 138, 161, 186, 215]</td>\n",
              "      <td>valid/image_9998.png</td>\n",
              "    </tr>\n",
              "    <tr>\n",
              "      <th>9999</th>\n",
              "      <td>5</td>\n",
              "      <td>0.445</td>\n",
              "      <td>[106, 129, 150, 170, 193]</td>\n",
              "      <td>valid/image_9999.png</td>\n",
              "    </tr>\n",
              "  </tbody>\n",
              "</table>\n",
              "<p>10000 rows × 4 columns</p>\n",
              "</div>\n",
              "      <button class=\"colab-df-convert\" onclick=\"convertToInteractive('df-cd1bc778-b0f2-4837-a83a-952b9385e454')\"\n",
              "              title=\"Convert this dataframe to an interactive table.\"\n",
              "              style=\"display:none;\">\n",
              "\n",
              "  <svg xmlns=\"http://www.w3.org/2000/svg\" height=\"24px\"viewBox=\"0 0 24 24\"\n",
              "       width=\"24px\">\n",
              "    <path d=\"M0 0h24v24H0V0z\" fill=\"none\"/>\n",
              "    <path d=\"M18.56 5.44l.94 2.06.94-2.06 2.06-.94-2.06-.94-.94-2.06-.94 2.06-2.06.94zm-11 1L8.5 8.5l.94-2.06 2.06-.94-2.06-.94L8.5 2.5l-.94 2.06-2.06.94zm10 10l.94 2.06.94-2.06 2.06-.94-2.06-.94-.94-2.06-.94 2.06-2.06.94z\"/><path d=\"M17.41 7.96l-1.37-1.37c-.4-.4-.92-.59-1.43-.59-.52 0-1.04.2-1.43.59L10.3 9.45l-7.72 7.72c-.78.78-.78 2.05 0 2.83L4 21.41c.39.39.9.59 1.41.59.51 0 1.02-.2 1.41-.59l7.78-7.78 2.81-2.81c.8-.78.8-2.07 0-2.86zM5.41 20L4 18.59l7.72-7.72 1.47 1.35L5.41 20z\"/>\n",
              "  </svg>\n",
              "      </button>\n",
              "\n",
              "\n",
              "\n",
              "    <div id=\"df-6ab2016f-62f1-40c3-b106-f608057dc0db\">\n",
              "      <button class=\"colab-df-quickchart\" onclick=\"quickchart('df-6ab2016f-62f1-40c3-b106-f608057dc0db')\"\n",
              "              title=\"Suggest charts.\"\n",
              "              style=\"display:none;\">\n",
              "\n",
              "<svg xmlns=\"http://www.w3.org/2000/svg\" height=\"24px\"viewBox=\"0 0 24 24\"\n",
              "     width=\"24px\">\n",
              "    <g>\n",
              "        <path d=\"M19 3H5c-1.1 0-2 .9-2 2v14c0 1.1.9 2 2 2h14c1.1 0 2-.9 2-2V5c0-1.1-.9-2-2-2zM9 17H7v-7h2v7zm4 0h-2V7h2v10zm4 0h-2v-4h2v4z\"/>\n",
              "    </g>\n",
              "</svg>\n",
              "      </button>\n",
              "    </div>\n",
              "\n",
              "<style>\n",
              "  .colab-df-quickchart {\n",
              "    background-color: #E8F0FE;\n",
              "    border: none;\n",
              "    border-radius: 50%;\n",
              "    cursor: pointer;\n",
              "    display: none;\n",
              "    fill: #1967D2;\n",
              "    height: 32px;\n",
              "    padding: 0 0 0 0;\n",
              "    width: 32px;\n",
              "  }\n",
              "\n",
              "  .colab-df-quickchart:hover {\n",
              "    background-color: #E2EBFA;\n",
              "    box-shadow: 0px 1px 2px rgba(60, 64, 67, 0.3), 0px 1px 3px 1px rgba(60, 64, 67, 0.15);\n",
              "    fill: #174EA6;\n",
              "  }\n",
              "\n",
              "  [theme=dark] .colab-df-quickchart {\n",
              "    background-color: #3B4455;\n",
              "    fill: #D2E3FC;\n",
              "  }\n",
              "\n",
              "  [theme=dark] .colab-df-quickchart:hover {\n",
              "    background-color: #434B5C;\n",
              "    box-shadow: 0px 1px 3px 1px rgba(0, 0, 0, 0.15);\n",
              "    filter: drop-shadow(0px 1px 2px rgba(0, 0, 0, 0.3));\n",
              "    fill: #FFFFFF;\n",
              "  }\n",
              "</style>\n",
              "\n",
              "    <script>\n",
              "      async function quickchart(key) {\n",
              "        const containerElement = document.querySelector('#' + key);\n",
              "        const charts = await google.colab.kernel.invokeFunction(\n",
              "            'suggestCharts', [key], {});\n",
              "      }\n",
              "    </script>\n",
              "\n",
              "      <script>\n",
              "\n",
              "function displayQuickchartButton(domScope) {\n",
              "  let quickchartButtonEl =\n",
              "    domScope.querySelector('#df-6ab2016f-62f1-40c3-b106-f608057dc0db button.colab-df-quickchart');\n",
              "  quickchartButtonEl.style.display =\n",
              "    google.colab.kernel.accessAllowed ? 'block' : 'none';\n",
              "}\n",
              "\n",
              "        displayQuickchartButton(document);\n",
              "      </script>\n",
              "      <style>\n",
              "    .colab-df-container {\n",
              "      display:flex;\n",
              "      flex-wrap:wrap;\n",
              "      gap: 12px;\n",
              "    }\n",
              "\n",
              "    .colab-df-convert {\n",
              "      background-color: #E8F0FE;\n",
              "      border: none;\n",
              "      border-radius: 50%;\n",
              "      cursor: pointer;\n",
              "      display: none;\n",
              "      fill: #1967D2;\n",
              "      height: 32px;\n",
              "      padding: 0 0 0 0;\n",
              "      width: 32px;\n",
              "    }\n",
              "\n",
              "    .colab-df-convert:hover {\n",
              "      background-color: #E2EBFA;\n",
              "      box-shadow: 0px 1px 2px rgba(60, 64, 67, 0.3), 0px 1px 3px 1px rgba(60, 64, 67, 0.15);\n",
              "      fill: #174EA6;\n",
              "    }\n",
              "\n",
              "    [theme=dark] .colab-df-convert {\n",
              "      background-color: #3B4455;\n",
              "      fill: #D2E3FC;\n",
              "    }\n",
              "\n",
              "    [theme=dark] .colab-df-convert:hover {\n",
              "      background-color: #434B5C;\n",
              "      box-shadow: 0px 1px 3px 1px rgba(0, 0, 0, 0.15);\n",
              "      filter: drop-shadow(0px 1px 2px rgba(0, 0, 0, 0.3));\n",
              "      fill: #FFFFFF;\n",
              "    }\n",
              "  </style>\n",
              "\n",
              "      <script>\n",
              "        const buttonEl =\n",
              "          document.querySelector('#df-cd1bc778-b0f2-4837-a83a-952b9385e454 button.colab-df-convert');\n",
              "        buttonEl.style.display =\n",
              "          google.colab.kernel.accessAllowed ? 'block' : 'none';\n",
              "\n",
              "        async function convertToInteractive(key) {\n",
              "          const element = document.querySelector('#df-cd1bc778-b0f2-4837-a83a-952b9385e454');\n",
              "          const dataTable =\n",
              "            await google.colab.kernel.invokeFunction('convertToInteractive',\n",
              "                                                     [key], {});\n",
              "          if (!dataTable) return;\n",
              "\n",
              "          const docLinkHtml = 'Like what you see? Visit the ' +\n",
              "            '<a target=\"_blank\" href=https://colab.research.google.com/notebooks/data_table.ipynb>data table notebook</a>'\n",
              "            + ' to learn more about interactive tables.';\n",
              "          element.innerHTML = '';\n",
              "          dataTable['output_type'] = 'display_data';\n",
              "          await google.colab.output.renderOutput(dataTable, element);\n",
              "          const docLink = document.createElement('div');\n",
              "          docLink.innerHTML = docLinkHtml;\n",
              "          element.appendChild(docLink);\n",
              "        }\n",
              "      </script>\n",
              "    </div>\n",
              "  </div>\n"
            ]
          },
          "metadata": {},
          "execution_count": 51
        }
      ],
      "source": [
        "with open('valid.pkl', 'rb') as f:\n",
        "    valid_data = pickle.load(f)\n",
        "\n",
        "valid_data"
      ],
      "id": "YVoqd-2bM7Jo"
    },
    {
      "cell_type": "code",
      "execution_count": null,
      "metadata": {
        "colab": {
          "base_uri": "https://localhost:8080/"
        },
        "id": "fAnmyLuKX5MG",
        "outputId": "a6172380-e746-4efc-ffd6-0b4ceb4a69a5"
      },
      "outputs": [
        {
          "data": {
            "text/plain": [
              "array(['train/image_0.png', 'train/image_1.png', 'train/image_2.png', ...,\n",
              "       'train/image_59997.png', 'train/image_59998.png',\n",
              "       'train/image_59999.png'], dtype=object)"
            ]
          },
          "execution_count": 9,
          "metadata": {},
          "output_type": "execute_result"
        }
      ],
      "source": [
        "train_data['img_path'].values"
      ],
      "id": "fAnmyLuKX5MG"
    },
    {
      "cell_type": "code",
      "execution_count": null,
      "metadata": {
        "colab": {
          "base_uri": "https://localhost:8080/"
        },
        "id": "Aq1DCiTTs9xZ",
        "outputId": "3029d0e6-8c23-4136-af67-44cd65c50482"
      },
      "outputs": [
        {
          "data": {
            "text/plain": [
              "array([[5.   , 0.226],\n",
              "       [7.   , 0.448],\n",
              "       [5.   , 0.341],\n",
              "       ...,\n",
              "       [8.   , 0.266],\n",
              "       [8.   , 0.337],\n",
              "       [6.   , 0.179]])"
            ]
          },
          "execution_count": 11,
          "metadata": {},
          "output_type": "execute_result"
        }
      ],
      "source": [
        "train_data[['n', 'potential']].values"
      ],
      "id": "Aq1DCiTTs9xZ"
    },
    {
      "cell_type": "code",
      "execution_count": null,
      "metadata": {
        "colab": {
          "base_uri": "https://localhost:8080/"
        },
        "id": "tGMt7ISVrnq2",
        "outputId": "a5670292-e3fc-45ff-cc2a-bca244daa1f5"
      },
      "outputs": [
        {
          "data": {
            "text/plain": [
              "array([[5.   , 0.226],\n",
              "       [7.   , 0.448],\n",
              "       [5.   , 0.341],\n",
              "       ...,\n",
              "       [8.   , 0.266],\n",
              "       [8.   , 0.337],\n",
              "       [6.   , 0.179]])"
            ]
          },
          "execution_count": 12,
          "metadata": {},
          "output_type": "execute_result"
        }
      ],
      "source": [
        "np.array(train_data[['n', 'potential']]) # .values 와 같은 결과"
      ],
      "id": "tGMt7ISVrnq2"
    },
    {
      "cell_type": "markdown",
      "metadata": {
        "id": "SZP_dDBPDWs_"
      },
      "source": [
        "## Customized Dataloader"
      ],
      "id": "SZP_dDBPDWs_"
    },
    {
      "cell_type": "code",
      "execution_count": 52,
      "metadata": {
        "id": "d77BCx7LrVIq"
      },
      "outputs": [],
      "source": [
        "data_dir = '/content/drive/My Drive/KUBIG/2023_summer/'"
      ],
      "id": "d77BCx7LrVIq"
    },
    {
      "cell_type": "code",
      "execution_count": 56,
      "metadata": {
        "id": "giwBih2Gm8Jv"
      },
      "outputs": [],
      "source": [
        "# Trial 1: open pkl outside\n",
        "class custom_PBL_train_dataset(torch.utils.data.Dataset):\n",
        "    def __init__(self, data_dir, train=True, transform=None):\n",
        "\n",
        "        self.data_dir = data_dir\n",
        "\n",
        "        if train:\n",
        "            self.input_path = train_data['img_path'].values\n",
        "            self.target = train_data[['n', 'potential']].values # 경로가 아닌 그 자체로 target\n",
        "        else:\n",
        "            self.input_path = valid_data['img_path'].values\n",
        "            self.target = valid_data[['n', 'potential']].values # np.array(valid_data[['n', 'potential']])\n",
        "\n",
        "        if transform is None:\n",
        "            self.transform = torch.Tensor\n",
        "        else:\n",
        "            self.transform = transform\n",
        "\n",
        "    def __len__(self):\n",
        "        return len(self.target)\n",
        "\n",
        "    def __getitem__(self, index):\n",
        "\n",
        "        input_file = Image.open(self.data_dir + self.input_path[index])\n",
        "        self.input = np.array(input_file) # idx2numpy 대신 np.array로 array 변환\n",
        "\n",
        "        img = self.transform(self.input)\n",
        "        label = self.transform(self.target[index])\n",
        "\n",
        "        return img, label"
      ],
      "id": "giwBih2Gm8Jv"
    },
    {
      "cell_type": "code",
      "execution_count": null,
      "metadata": {
        "id": "k6GPDGshEi5l"
      },
      "outputs": [],
      "source": [
        "\"\"\"\n",
        "# Trial 2: open pkl inside\n",
        "class custom_PBL_train_dataset(torch.utils.data.Dataset):\n",
        "    def __init__(self, data_dir, train=True, transform=None):\n",
        "\n",
        "        self.data_dir = data_dir\n",
        "\n",
        "        with open(self.data_dir + self.target)\n",
        "        if train:\n",
        "            self.input_path = train_data['img_path'].values\n",
        "            self.target = train_data[['n', 'potential']].values # 경로가 아닌 그 자체로 target\n",
        "        else:\n",
        "            self.input_path = valid_data['img_path'].values\n",
        "            self.target = valid_data[['n', 'potential']].values # np.array(valid_data[['n', 'potential']])\n",
        "\n",
        "        if transform is None:\n",
        "            self.transform = torch.Tensor\n",
        "        else:\n",
        "            self.transform = transform\n",
        "\n",
        "    def __len__(self):\n",
        "        return len(self.target)\n",
        "\n",
        "    def __getitem__(self, index):\n",
        "\n",
        "        input_file = Image.open(self.data_dir + self.input_path[index])\n",
        "        self.input = np.array(input_file) # idx2numpy 대신 np.array로 array 변환\n",
        "\n",
        "        img = self.transform(self.input)\n",
        "        label = self.transform(self.target[index])\n",
        "\n",
        "        return img, label\n",
        "\"\"\""
      ],
      "id": "k6GPDGshEi5l"
    },
    {
      "cell_type": "code",
      "execution_count": 57,
      "metadata": {
        "id": "gkM9gYvsaQ-D"
      },
      "outputs": [],
      "source": [
        "custom_train_data = custom_PBL_train_dataset(data_dir, train=True)\n",
        "custom_test_data = custom_PBL_train_dataset(data_dir, train=False)\n",
        "\n",
        "from torch.utils.data.dataloader import DataLoader\n",
        "\n",
        "train_loader = DataLoader(dataset=custom_train_data, batch_size=16, shuffle=True)\n",
        "test_loader = DataLoader(dataset=custom_test_data, batch_size=16, shuffle=False)"
      ],
      "id": "gkM9gYvsaQ-D"
    },
    {
      "cell_type": "code",
      "execution_count": 58,
      "metadata": {
        "id": "fe652816"
      },
      "outputs": [],
      "source": [
        "# input 과 output 의 sampling 확인\n",
        "x, y = next(iter(train_loader))"
      ],
      "id": "fe652816"
    },
    {
      "cell_type": "code",
      "execution_count": 59,
      "metadata": {
        "colab": {
          "base_uri": "https://localhost:8080/"
        },
        "id": "c0fe33d3",
        "outputId": "94490319-718b-4416-b9a3-bb268e7ddeb1"
      },
      "outputs": [
        {
          "output_type": "execute_result",
          "data": {
            "text/plain": [
              "torch.Size([16, 10, 300])"
            ]
          },
          "metadata": {},
          "execution_count": 59
        }
      ],
      "source": [
        "x.shape"
      ],
      "id": "c0fe33d3"
    },
    {
      "cell_type": "code",
      "execution_count": 60,
      "metadata": {
        "colab": {
          "base_uri": "https://localhost:8080/"
        },
        "id": "kLAo7WRTuipz",
        "outputId": "c489b60a-043b-4ff8-8ec4-c7d667a4d2d5"
      },
      "outputs": [
        {
          "output_type": "execute_result",
          "data": {
            "text/plain": [
              "torch.Size([16, 2])"
            ]
          },
          "metadata": {},
          "execution_count": 60
        }
      ],
      "source": [
        "y.shape"
      ],
      "id": "kLAo7WRTuipz"
    },
    {
      "cell_type": "code",
      "execution_count": 61,
      "metadata": {
        "id": "rSBro9GsA9ce",
        "colab": {
          "base_uri": "https://localhost:8080/"
        },
        "outputId": "17a25179-abbb-4c4c-b136-61f849e5ab79"
      },
      "outputs": [
        {
          "output_type": "execute_result",
          "data": {
            "text/plain": [
              "tensor([6.0000, 0.5210])"
            ]
          },
          "metadata": {},
          "execution_count": 61
        }
      ],
      "source": [
        "y[0]"
      ],
      "id": "rSBro9GsA9ce"
    },
    {
      "cell_type": "code",
      "execution_count": 62,
      "metadata": {
        "id": "FAY-FVh2-JdY",
        "colab": {
          "base_uri": "https://localhost:8080/",
          "height": 405
        },
        "outputId": "9894baa8-e41e-4fa1-81c8-7c68726f4fe4"
      },
      "outputs": [
        {
          "output_type": "display_data",
          "data": {
            "text/plain": [
              "<Figure size 640x480 with 5 Axes>"
            ],
            "image/png": "[encoded data removed]"
          },
          "metadata": {}
        }
      ],
      "source": [
        "# sample된 이미지 출력\n",
        "for i in range(5):\n",
        "    plt.subplot(5, 1, i+1)\n",
        "    plt.imshow(x[i])\n",
        "    plt.title(\"n: {}, potential: {}\".format(y[i][0], y[i][1]))"
      ],
      "id": "FAY-FVh2-JdY"
    },
    {
      "cell_type": "markdown",
      "metadata": {
        "id": "Eh8pQ8MRFc4G"
      },
      "source": [
        "## 압축을 풀지 않고 이미지 파일을 읽는 코드\n",
        "1. BytesIO 함수\n",
        "2. OpenCV 의 imdecode 함수\n",
        "\n",
        "- 이미지 업로드에서의 두 방식의 차이\n",
        " - 이미지 하나를 업로드하는 속도\n",
        " - 이미지를 로딩하는 방법의 차이"
      ],
      "id": "Eh8pQ8MRFc4G"
    },
    {
      "cell_type": "code",
      "execution_count": 63,
      "metadata": {
        "id": "RGjDCtg8CEAX"
      },
      "outputs": [],
      "source": [
        "import time\n",
        "\n",
        "def timer(func):\n",
        "    def wrapper(*args, **kwargs):\n",
        "        start_time = time.time()\n",
        "        result = func(*args, **kwargs)\n",
        "        end_time = time.time()\n",
        "        computation_time = end_time - start_time\n",
        "        print(f\"Execution time of {func.__name__}: {computation_time} seconds\")\n",
        "        return result\n",
        "    return wrapper"
      ],
      "id": "RGjDCtg8CEAX"
    },
    {
      "cell_type": "code",
      "execution_count": 12,
      "metadata": {
        "colab": {
          "base_uri": "https://localhost:8080/"
        },
        "id": "kAnPkXaXGFps",
        "outputId": "7179a4a5-016d-478b-ef63-e883606d2923"
      },
      "outputs": [
        {
          "output_type": "stream",
          "name": "stdout",
          "text": [
            "Requirement already satisfied: opencv-python in /usr/local/lib/python3.10/dist-packages (4.7.0.72)\n",
            "Requirement already satisfied: numpy>=1.21.2 in /usr/local/lib/python3.10/dist-packages (from opencv-python) (1.22.4)\n"
          ]
        }
      ],
      "source": [
        "!pip install opencv-python"
      ],
      "id": "kAnPkXaXGFps"
    },
    {
      "cell_type": "code",
      "execution_count": 120,
      "metadata": {
        "id": "7pLypKCa-Jki"
      },
      "outputs": [],
      "source": [
        "from io import BytesIO\n",
        "from PIL import Image # Bytes 로 압축된 이미지를 이미지로 변환하기 위해 필요\n",
        "from zipfile import ZipFile # 압축된 데이터 파일 핸들링을 위한 라이브러리"
      ],
      "id": "7pLypKCa-Jki"
    },
    {
      "cell_type": "code",
      "execution_count": 121,
      "metadata": {
        "id": "dryhCFL7CD-M"
      },
      "outputs": [],
      "source": [
        "from cv2 import imdecode # opencv 미설치시 !pip install opencv-python 명령문으로 설치"
      ],
      "id": "dryhCFL7CD-M"
    },
    {
      "cell_type": "markdown",
      "source": [
        "### 1. io.BytesIO()\n",
        "- 방법: 객체 내에 저장된 bytes 정보를 불러와 이미지로 읽는다.\n",
        " - 다양한 I/O(입출력) 형태 중에 바이너리 I/O(buffered I/O) 형태를 기대하고 처리한다.  \n",
        " - 모든 종류의 텍스트가 아닌 데이터에 사용할 수 있으며, 텍스트 데이터 처리를 수동으로 제어해야 할 때도 사용할 수 있다.\n",
        "- imdecode 함수보다 속도가 느리다."
      ],
      "metadata": {
        "id": "l5ic-q1ZQSNK"
      },
      "id": "l5ic-q1ZQSNK"
    },
    {
      "cell_type": "code",
      "source": [
        "@timer\n",
        "def extract_img_zipfile(zip_path, img_name):\n",
        "    \"\"\"\n",
        "    zip_path: zip 파일 경로 ex) './train.zip'\n",
        "    img_name: zip 파일 내 이미지 파일 이름 ex) 'train/image_0.png' or ['train/image_0.png', 'train/image_1.png', ..]\n",
        "    \"\"\"\n",
        "    with ZipFile(zip_path, 'r') as img_file:\n",
        "        # zip_path 경로 내 img_name 데이터를 읽는 코드\n",
        "        img_data = img_file.read(img_name)\n",
        "\n",
        "    # io.BytesIO 로 Byte 객체 생성\n",
        "    img_bytes_io = BytesIO(img_data)\n",
        "\n",
        "    # 생성된 Byte 객체를 ndarray 로 변환하는 코드\n",
        "    with Image.open(img_bytes_io) as img:\n",
        "        return np.array(img)"
      ],
      "metadata": {
        "id": "DIyhcfmOk27B"
      },
      "id": "DIyhcfmOk27B",
      "execution_count": 118,
      "outputs": []
    },
    {
      "cell_type": "code",
      "source": [
        "img_array = extract_img_zipfile('./3주차-PBL-data.zip', 'train/image_0.png')\n",
        "plt.imshow(img_array)"
      ],
      "metadata": {
        "colab": {
          "base_uri": "https://localhost:8080/",
          "height": 117
        },
        "id": "kJuPeoCLlXvJ",
        "outputId": "b907c98a-63e1-4b9a-fb7f-6fa0fd5f70ba"
      },
      "id": "kJuPeoCLlXvJ",
      "execution_count": 119,
      "outputs": [
        {
          "output_type": "stream",
          "name": "stdout",
          "text": [
            "Execution time of extract_img_zipfile: 1.3666057586669922 seconds\n"
          ]
        },
        {
          "output_type": "execute_result",
          "data": {
            "text/plain": [
              "<matplotlib.image.AxesImage at 0x7c90a6099f00>"
            ]
          },
          "metadata": {},
          "execution_count": 119
        },
        {
          "output_type": "display_data",
          "data": {
            "text/plain": [
              "<Figure size 640x480 with 1 Axes>"
            ],
            "image/png": "[encoded data removed]"
          },
          "metadata": {}
        }
      ]
    },
    {
      "cell_type": "markdown",
      "source": [
        "### 2. OpenCV 의 imdecode\n",
        "- imdecode(buf, flags)의 형태로 사용하며,  \n",
        "buf 에는 인코딩된 배열이 입력되고, 그 결과로 디코딩된 배열이 출력된다.\n",
        "- 속도가 상대적으로 우수하다."
      ],
      "metadata": {
        "id": "N_YZu7sbYBV7"
      },
      "id": "N_YZu7sbYBV7"
    },
    {
      "cell_type": "code",
      "source": [
        "import cv2"
      ],
      "metadata": {
        "id": "ZXBvuPlEn0J2"
      },
      "id": "ZXBvuPlEn0J2",
      "execution_count": null,
      "outputs": []
    },
    {
      "cell_type": "code",
      "source": [
        "@timer\n",
        "def extract_img_zipfile_opencv(zip_path, img_name):\n",
        "    \"\"\"\n",
        "    zip_path: zip 파일 경로 ex) './train.zip'\n",
        "    img_name: zip 파일 내 이미지 파일 이름 ex) 'train/image_0.png' or ['train/image_0.png', 'train/image_1.png', ..]\n",
        "    \"\"\"\n",
        "    with ZipFile(zip_path, 'r') as img_file:\n",
        "        # zip_path 경로 내 img_name 데이터를 읽는 코드\n",
        "        img_data = img_file.read(img_name)\n",
        "\n",
        "    # memory buffer 를 1D-ndarray 로 변환\n",
        "    np_buffer = np.frombuffer(img_data, np.uint8)\n",
        "    # buffer 를 gray scale image 인 2D-ndarray 로 변환\n",
        "    img = imdecode(np_buffer, cv2.IMREAD_GRAYSCALE)\n",
        "    return img"
      ],
      "metadata": {
        "id": "ibwwQXrZnCQo"
      },
      "id": "ibwwQXrZnCQo",
      "execution_count": 116,
      "outputs": []
    },
    {
      "cell_type": "code",
      "source": [
        "img_array = extract_img_zipfile_opencv('./3주차-PBL-data.zip', 'train/image_0.png')\n",
        "plt.imshow(img_array)"
      ],
      "metadata": {
        "colab": {
          "base_uri": "https://localhost:8080/",
          "height": 117
        },
        "id": "dEhWdWNJnCTe",
        "outputId": "9dc140cc-04dc-4bc0-a154-cb092cb82e92"
      },
      "id": "dEhWdWNJnCTe",
      "execution_count": 117,
      "outputs": [
        {
          "output_type": "stream",
          "name": "stdout",
          "text": [
            "Execution time of extract_img_zipfile_opencv: 0.7573947906494141 seconds\n"
          ]
        },
        {
          "output_type": "execute_result",
          "data": {
            "text/plain": [
              "<matplotlib.image.AxesImage at 0x7c90a60d2620>"
            ]
          },
          "metadata": {},
          "execution_count": 117
        },
        {
          "output_type": "display_data",
          "data": {
            "text/plain": [
              "<Figure size 640x480 with 1 Axes>"
            ],
            "image/png": "[encoded data removed]"
          },
          "metadata": {}
        }
      ]
    },
    {
      "cell_type": "markdown",
      "source": [
        "## 방법1을 이용하여 Dataloader 설계하기"
      ],
      "metadata": {
        "id": "6H3IljxXsYvh"
      },
      "id": "6H3IljxXsYvh"
    },
    {
      "cell_type": "code",
      "source": [
        "zip_path = './3주차-PBL-data.zip'\n",
        "pkl_name = ['train.pkl', 'valid.pkl']"
      ],
      "metadata": {
        "id": "kDMcpqWqKK7u"
      },
      "id": "kDMcpqWqKK7u",
      "execution_count": 70,
      "outputs": []
    },
    {
      "cell_type": "code",
      "execution_count": 103,
      "metadata": {
        "id": "PzUPwo8QCEC2"
      },
      "outputs": [],
      "source": [
        "@timer\n",
        "def extract_pkl_zipfile(zip_path, pkl_name, train=True):\n",
        "\n",
        "    if train:\n",
        "        with ZipFile(zip_path, 'r') as file_name:\n",
        "            # zip_path 경로 내 file_name 데이터를 읽는 코드\n",
        "            pkl_data = file_name.read(pkl_name[0])\n",
        "        # io.BytesIO 로 Byte 객체 생성\n",
        "        pkl_bytes_io = BytesIO(pkl_data)\n",
        "        data = pickle.load(pkl_bytes_io)\n",
        "\n",
        "    else:\n",
        "        with ZipFile(zip_path, 'r') as file_name:\n",
        "            # zip_path 경로 내 file_name 데이터를 읽는 코드\n",
        "            pkl_data = file_name.read(pkl_name[1])\n",
        "        # io.BytesIO 로 Byte 객체 생성\n",
        "        pkl_bytes_io = BytesIO(pkl_data)\n",
        "        data = pickle.load(pkl_bytes_io)\n",
        "\n",
        "    return data"
      ],
      "id": "PzUPwo8QCEC2"
    },
    {
      "cell_type": "code",
      "source": [
        "extract_pkl_zipfile(zip_path, pkl_name, train=False) # 앞에서와 같은 결과"
      ],
      "metadata": {
        "colab": {
          "base_uri": "https://localhost:8080/",
          "height": 442
        },
        "id": "DNeZUXQtVWW9",
        "outputId": "16b21f3e-422d-4038-c216-6094459fac07"
      },
      "id": "DNeZUXQtVWW9",
      "execution_count": 104,
      "outputs": [
        {
          "output_type": "stream",
          "name": "stdout",
          "text": [
            "Execution time of extract_pkl_zipfile: 1.0911402702331543 seconds\n"
          ]
        },
        {
          "output_type": "execute_result",
          "data": {
            "text/plain": [
              "      n  potential                                 position  \\\n",
              "0     6      0.457           [100, 122, 140, 159, 177, 199]   \n",
              "1     7      0.291       [74, 102, 127, 150, 172, 197, 225]   \n",
              "2     6      0.434            [98, 121, 140, 159, 178, 201]   \n",
              "3     8      0.435  [86, 107, 125, 141, 158, 174, 192, 213]   \n",
              "4     8      0.401  [83, 105, 124, 141, 158, 175, 194, 216]   \n",
              "...  ..        ...                                      ...   \n",
              "9995  6      0.301            [84, 113, 137, 162, 186, 215]   \n",
              "9996  8      0.345  [76, 100, 121, 140, 159, 178, 199, 223]   \n",
              "9997  5      0.372                [100, 126, 150, 173, 199]   \n",
              "9998  6      0.304            [84, 113, 138, 161, 186, 215]   \n",
              "9999  5      0.445                [106, 129, 150, 170, 193]   \n",
              "\n",
              "                  img_path  \n",
              "0        valid/image_0.png  \n",
              "1        valid/image_1.png  \n",
              "2        valid/image_2.png  \n",
              "3        valid/image_3.png  \n",
              "4        valid/image_4.png  \n",
              "...                    ...  \n",
              "9995  valid/image_9995.png  \n",
              "9996  valid/image_9996.png  \n",
              "9997  valid/image_9997.png  \n",
              "9998  valid/image_9998.png  \n",
              "9999  valid/image_9999.png  \n",
              "\n",
              "[10000 rows x 4 columns]"
            ],
            "text/html": [
              "\n",
              "\n",
              "  <div id=\"df-4c6ae30a-a4ba-45a0-956d-325c8640eda9\">\n",
              "    <div class=\"colab-df-container\">\n",
              "      <div>\n",
              "<style scoped>\n",
              "    .dataframe tbody tr th:only-of-type {\n",
              "        vertical-align: middle;\n",
              "    }\n",
              "\n",
              "    .dataframe tbody tr th {\n",
              "        vertical-align: top;\n",
              "    }\n",
              "\n",
              "    .dataframe thead th {\n",
              "        text-align: right;\n",
              "    }\n",
              "</style>\n",
              "<table border=\"1\" class=\"dataframe\">\n",
              "  <thead>\n",
              "    <tr style=\"text-align: right;\">\n",
              "      <th></th>\n",
              "      <th>n</th>\n",
              "      <th>potential</th>\n",
              "      <th>position</th>\n",
              "      <th>img_path</th>\n",
              "    </tr>\n",
              "  </thead>\n",
              "  <tbody>\n",
              "    <tr>\n",
              "      <th>0</th>\n",
              "      <td>6</td>\n",
              "      <td>0.457</td>\n",
              "      <td>[100, 122, 140, 159, 177, 199]</td>\n",
              "      <td>valid/image_0.png</td>\n",
              "    </tr>\n",
              "    <tr>\n",
              "      <th>1</th>\n",
              "      <td>7</td>\n",
              "      <td>0.291</td>\n",
              "      <td>[74, 102, 127, 150, 172, 197, 225]</td>\n",
              "      <td>valid/image_1.png</td>\n",
              "    </tr>\n",
              "    <tr>\n",
              "      <th>2</th>\n",
              "      <td>6</td>\n",
              "      <td>0.434</td>\n",
              "      <td>[98, 121, 140, 159, 178, 201]</td>\n",
              "      <td>valid/image_2.png</td>\n",
              "    </tr>\n",
              "    <tr>\n",
              "      <th>3</th>\n",
              "      <td>8</td>\n",
              "      <td>0.435</td>\n",
              "      <td>[86, 107, 125, 141, 158, 174, 192, 213]</td>\n",
              "      <td>valid/image_3.png</td>\n",
              "    </tr>\n",
              "    <tr>\n",
              "      <th>4</th>\n",
              "      <td>8</td>\n",
              "      <td>0.401</td>\n",
              "      <td>[83, 105, 124, 141, 158, 175, 194, 216]</td>\n",
              "      <td>valid/image_4.png</td>\n",
              "    </tr>\n",
              "    <tr>\n",
              "      <th>...</th>\n",
              "      <td>...</td>\n",
              "      <td>...</td>\n",
              "      <td>...</td>\n",
              "      <td>...</td>\n",
              "    </tr>\n",
              "    <tr>\n",
              "      <th>9995</th>\n",
              "      <td>6</td>\n",
              "      <td>0.301</td>\n",
              "      <td>[84, 113, 137, 162, 186, 215]</td>\n",
              "      <td>valid/image_9995.png</td>\n",
              "    </tr>\n",
              "    <tr>\n",
              "      <th>9996</th>\n",
              "      <td>8</td>\n",
              "      <td>0.345</td>\n",
              "      <td>[76, 100, 121, 140, 159, 178, 199, 223]</td>\n",
              "      <td>valid/image_9996.png</td>\n",
              "    </tr>\n",
              "    <tr>\n",
              "      <th>9997</th>\n",
              "      <td>5</td>\n",
              "      <td>0.372</td>\n",
              "      <td>[100, 126, 150, 173, 199]</td>\n",
              "      <td>valid/image_9997.png</td>\n",
              "    </tr>\n",
              "    <tr>\n",
              "      <th>9998</th>\n",
              "      <td>6</td>\n",
              "      <td>0.304</td>\n",
              "      <td>[84, 113, 138, 161, 186, 215]</td>\n",
              "      <td>valid/image_9998.png</td>\n",
              "    </tr>\n",
              "    <tr>\n",
              "      <th>9999</th>\n",
              "      <td>5</td>\n",
              "      <td>0.445</td>\n",
              "      <td>[106, 129, 150, 170, 193]</td>\n",
              "      <td>valid/image_9999.png</td>\n",
              "    </tr>\n",
              "  </tbody>\n",
              "</table>\n",
              "<p>10000 rows × 4 columns</p>\n",
              "</div>\n",
              "      <button class=\"colab-df-convert\" onclick=\"convertToInteractive('df-4c6ae30a-a4ba-45a0-956d-325c8640eda9')\"\n",
              "              title=\"Convert this dataframe to an interactive table.\"\n",
              "              style=\"display:none;\">\n",
              "\n",
              "  <svg xmlns=\"http://www.w3.org/2000/svg\" height=\"24px\"viewBox=\"0 0 24 24\"\n",
              "       width=\"24px\">\n",
              "    <path d=\"M0 0h24v24H0V0z\" fill=\"none\"/>\n",
              "    <path d=\"M18.56 5.44l.94 2.06.94-2.06 2.06-.94-2.06-.94-.94-2.06-.94 2.06-2.06.94zm-11 1L8.5 8.5l.94-2.06 2.06-.94-2.06-.94L8.5 2.5l-.94 2.06-2.06.94zm10 10l.94 2.06.94-2.06 2.06-.94-2.06-.94-.94-2.06-.94 2.06-2.06.94z\"/><path d=\"M17.41 7.96l-1.37-1.37c-.4-.4-.92-.59-1.43-.59-.52 0-1.04.2-1.43.59L10.3 9.45l-7.72 7.72c-.78.78-.78 2.05 0 2.83L4 21.41c.39.39.9.59 1.41.59.51 0 1.02-.2 1.41-.59l7.78-7.78 2.81-2.81c.8-.78.8-2.07 0-2.86zM5.41 20L4 18.59l7.72-7.72 1.47 1.35L5.41 20z\"/>\n",
              "  </svg>\n",
              "      </button>\n",
              "\n",
              "\n",
              "\n",
              "    <div id=\"df-78a2eb63-79d2-48ac-ab48-ce21eaec7ab4\">\n",
              "      <button class=\"colab-df-quickchart\" onclick=\"quickchart('df-78a2eb63-79d2-48ac-ab48-ce21eaec7ab4')\"\n",
              "              title=\"Suggest charts.\"\n",
              "              style=\"display:none;\">\n",
              "\n",
              "<svg xmlns=\"http://www.w3.org/2000/svg\" height=\"24px\"viewBox=\"0 0 24 24\"\n",
              "     width=\"24px\">\n",
              "    <g>\n",
              "        <path d=\"M19 3H5c-1.1 0-2 .9-2 2v14c0 1.1.9 2 2 2h14c1.1 0 2-.9 2-2V5c0-1.1-.9-2-2-2zM9 17H7v-7h2v7zm4 0h-2V7h2v10zm4 0h-2v-4h2v4z\"/>\n",
              "    </g>\n",
              "</svg>\n",
              "      </button>\n",
              "    </div>\n",
              "\n",
              "<style>\n",
              "  .colab-df-quickchart {\n",
              "    background-color: #E8F0FE;\n",
              "    border: none;\n",
              "    border-radius: 50%;\n",
              "    cursor: pointer;\n",
              "    display: none;\n",
              "    fill: #1967D2;\n",
              "    height: 32px;\n",
              "    padding: 0 0 0 0;\n",
              "    width: 32px;\n",
              "  }\n",
              "\n",
              "  .colab-df-quickchart:hover {\n",
              "    background-color: #E2EBFA;\n",
              "    box-shadow: 0px 1px 2px rgba(60, 64, 67, 0.3), 0px 1px 3px 1px rgba(60, 64, 67, 0.15);\n",
              "    fill: #174EA6;\n",
              "  }\n",
              "\n",
              "  [theme=dark] .colab-df-quickchart {\n",
              "    background-color: #3B4455;\n",
              "    fill: #D2E3FC;\n",
              "  }\n",
              "\n",
              "  [theme=dark] .colab-df-quickchart:hover {\n",
              "    background-color: #434B5C;\n",
              "    box-shadow: 0px 1px 3px 1px rgba(0, 0, 0, 0.15);\n",
              "    filter: drop-shadow(0px 1px 2px rgba(0, 0, 0, 0.3));\n",
              "    fill: #FFFFFF;\n",
              "  }\n",
              "</style>\n",
              "\n",
              "    <script>\n",
              "      async function quickchart(key) {\n",
              "        const containerElement = document.querySelector('#' + key);\n",
              "        const charts = await google.colab.kernel.invokeFunction(\n",
              "            'suggestCharts', [key], {});\n",
              "      }\n",
              "    </script>\n",
              "\n",
              "      <script>\n",
              "\n",
              "function displayQuickchartButton(domScope) {\n",
              "  let quickchartButtonEl =\n",
              "    domScope.querySelector('#df-78a2eb63-79d2-48ac-ab48-ce21eaec7ab4 button.colab-df-quickchart');\n",
              "  quickchartButtonEl.style.display =\n",
              "    google.colab.kernel.accessAllowed ? 'block' : 'none';\n",
              "}\n",
              "\n",
              "        displayQuickchartButton(document);\n",
              "      </script>\n",
              "      <style>\n",
              "    .colab-df-container {\n",
              "      display:flex;\n",
              "      flex-wrap:wrap;\n",
              "      gap: 12px;\n",
              "    }\n",
              "\n",
              "    .colab-df-convert {\n",
              "      background-color: #E8F0FE;\n",
              "      border: none;\n",
              "      border-radius: 50%;\n",
              "      cursor: pointer;\n",
              "      display: none;\n",
              "      fill: #1967D2;\n",
              "      height: 32px;\n",
              "      padding: 0 0 0 0;\n",
              "      width: 32px;\n",
              "    }\n",
              "\n",
              "    .colab-df-convert:hover {\n",
              "      background-color: #E2EBFA;\n",
              "      box-shadow: 0px 1px 2px rgba(60, 64, 67, 0.3), 0px 1px 3px 1px rgba(60, 64, 67, 0.15);\n",
              "      fill: #174EA6;\n",
              "    }\n",
              "\n",
              "    [theme=dark] .colab-df-convert {\n",
              "      background-color: #3B4455;\n",
              "      fill: #D2E3FC;\n",
              "    }\n",
              "\n",
              "    [theme=dark] .colab-df-convert:hover {\n",
              "      background-color: #434B5C;\n",
              "      box-shadow: 0px 1px 3px 1px rgba(0, 0, 0, 0.15);\n",
              "      filter: drop-shadow(0px 1px 2px rgba(0, 0, 0, 0.3));\n",
              "      fill: #FFFFFF;\n",
              "    }\n",
              "  </style>\n",
              "\n",
              "      <script>\n",
              "        const buttonEl =\n",
              "          document.querySelector('#df-4c6ae30a-a4ba-45a0-956d-325c8640eda9 button.colab-df-convert');\n",
              "        buttonEl.style.display =\n",
              "          google.colab.kernel.accessAllowed ? 'block' : 'none';\n",
              "\n",
              "        async function convertToInteractive(key) {\n",
              "          const element = document.querySelector('#df-4c6ae30a-a4ba-45a0-956d-325c8640eda9');\n",
              "          const dataTable =\n",
              "            await google.colab.kernel.invokeFunction('convertToInteractive',\n",
              "                                                     [key], {});\n",
              "          if (!dataTable) return;\n",
              "\n",
              "          const docLinkHtml = 'Like what you see? Visit the ' +\n",
              "            '<a target=\"_blank\" href=https://colab.research.google.com/notebooks/data_table.ipynb>data table notebook</a>'\n",
              "            + ' to learn more about interactive tables.';\n",
              "          element.innerHTML = '';\n",
              "          dataTable['output_type'] = 'display_data';\n",
              "          await google.colab.output.renderOutput(dataTable, element);\n",
              "          const docLink = document.createElement('div');\n",
              "          docLink.innerHTML = docLinkHtml;\n",
              "          element.appendChild(docLink);\n",
              "        }\n",
              "      </script>\n",
              "    </div>\n",
              "  </div>\n"
            ]
          },
          "metadata": {},
          "execution_count": 104
        }
      ]
    },
    {
      "cell_type": "code",
      "source": [
        "class custom_PBL_train_dataset_1(torch.utils.data.Dataset):\n",
        "    def __init__(self, data_dir, train=True, transform=None):\n",
        "\n",
        "        self.data_dir = data_dir\n",
        "\n",
        "        if train:\n",
        "            self.data = extract_pkl_zipfile(zip_path, pkl_name, train=True)\n",
        "            self.input_path = self.data['img_path'].values\n",
        "            self.target = self.data[['n', 'potential']].values # 그 자체로 target\n",
        "        else:\n",
        "            self.data = extract_pkl_zipfile(zip_path, pkl_name, train=False)\n",
        "            self.input_path = self.data['img_path'].values\n",
        "            self.target = self.data[['n', 'potential']].values\n",
        "\n",
        "        if transform is None:\n",
        "            self.transform = torch.Tensor\n",
        "        else:\n",
        "            self.transform = transform\n",
        "\n",
        "    def __len__(self):\n",
        "        return len(self.target)\n",
        "\n",
        "    def __getitem__(self, index):\n",
        "\n",
        "        input_file = Image.open(self.data_dir + self.input_path[index])\n",
        "        self.input = np.array(input_file) # idx2numpy 대신 np.array로 array 변환\n",
        "\n",
        "        img = self.transform(self.input)\n",
        "        label = self.transform(self.target[index])\n",
        "\n",
        "        return img, label"
      ],
      "metadata": {
        "id": "8nEi_mg-oi9R"
      },
      "id": "8nEi_mg-oi9R",
      "execution_count": 98,
      "outputs": []
    },
    {
      "cell_type": "code",
      "source": [
        "custom_train_data_1 = custom_PBL_train_dataset_1(data_dir, train=True)\n",
        "custom_test_data_1 = custom_PBL_train_dataset_1(data_dir, train=False)\n",
        "\n",
        "train_loader_1 = DataLoader(dataset=custom_train_data_1, batch_size=16, shuffle=True)\n",
        "test_loader_1 = DataLoader(dataset=custom_test_data_1, batch_size=16, shuffle=False)"
      ],
      "metadata": {
        "id": "A3DqVf09W-tY"
      },
      "id": "A3DqVf09W-tY",
      "execution_count": 99,
      "outputs": []
    },
    {
      "cell_type": "code",
      "source": [
        "x, y = next(iter(train_loader_1))"
      ],
      "metadata": {
        "id": "Q_2-LePBW-v0"
      },
      "id": "Q_2-LePBW-v0",
      "execution_count": 100,
      "outputs": []
    },
    {
      "cell_type": "code",
      "source": [
        "x.shape"
      ],
      "metadata": {
        "colab": {
          "base_uri": "https://localhost:8080/"
        },
        "id": "CAkmLcYAXrgm",
        "outputId": "4c4134ee-4b86-4b86-adf0-3b0360a6c6f8"
      },
      "id": "CAkmLcYAXrgm",
      "execution_count": 101,
      "outputs": [
        {
          "output_type": "execute_result",
          "data": {
            "text/plain": [
              "torch.Size([16, 10, 300])"
            ]
          },
          "metadata": {},
          "execution_count": 101
        }
      ]
    },
    {
      "cell_type": "code",
      "source": [
        "for i in range(5):\n",
        "    plt.subplot(5, 1, i+1)\n",
        "    plt.imshow(x[i])\n",
        "    plt.title(\"n: {}, potential: {}\".format(y[i][0], y[i][1]))"
      ],
      "metadata": {
        "colab": {
          "base_uri": "https://localhost:8080/",
          "height": 405
        },
        "id": "rNFpFwBaW-yR",
        "outputId": "4b2d16dc-027e-4775-a440-fa1e295e41dd"
      },
      "id": "rNFpFwBaW-yR",
      "execution_count": 102,
      "outputs": [
        {
          "output_type": "display_data",
          "data": {
            "text/plain": [
              "<Figure size 640x480 with 5 Axes>"
            ],
            "image/png": "[encoded data removed]"
          },
          "metadata": {}
        }
      ]
    },
    {
      "cell_type": "code",
      "source": [],
      "metadata": {
        "id": "Fp0TDhMWYKUO"
      },
      "id": "Fp0TDhMWYKUO",
      "execution_count": null,
      "outputs": []
    }
  ],
  "metadata": {
    "colab": {
      "toc_visible": true,
      "provenance": [],
      "machine_shape": "hm",
      "include_colab_link": true
    },
    "kernelspec": {
      "display_name": "Python 3",
      "name": "python3"
    },
    "language_info": {
      "codemirror_mode": {
        "name": "ipython",
        "version": 3
      },
      "file_extension": ".py",
      "mimetype": "text/x-python",
      "name": "python",
      "nbconvert_exporter": "python",
      "pygments_lexer": "ipython3",
      "version": "3.9.13"
    }
  },
  "nbformat": 4,
  "nbformat_minor": 5
}