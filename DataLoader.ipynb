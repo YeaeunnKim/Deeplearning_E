{
 "cells": [
  {
   "cell_type": "code",
   "execution_count": 102,
   "metadata": {},
   "outputs": [],
   "source": [
    "import torch\n",
    "import torch.utils.data as data\n",
    "import torchvision as tv\n",
    "from torch.utils.data.dataloader import DataLoader\n",
    "import pandas as pd\n",
    "import numpy as np\n",
    "import pickle\n",
    "import os\n",
    "from PIL import Image\n",
    "from torchvision import transforms\n",
    "\n",
    "min_batch = 64"
   ]
  },
  {
   "cell_type": "code",
   "execution_count": 103,
   "metadata": {},
   "outputs": [],
   "source": [
    "data_dir='E:/2019~/데이터분석/스터디/고려대학교 딥러닝 스터디/3주차-PBL-data/'"
   ]
  },
  {
   "cell_type": "code",
   "execution_count": 104,
   "metadata": {},
   "outputs": [
    {
     "data": {
      "text/plain": [
       "(10, 300)"
      ]
     },
     "execution_count": 104,
     "metadata": {},
     "output_type": "execute_result"
    }
   ],
   "source": [
    "with Image.open('E:/2019~/데이터분석/스터디/고려대학교 딥러닝 스터디/3주차-PBL-data/train/image_0.png') as image:\n",
    "    img_array = np.array(image)\n",
    "\n",
    "img_array.shape"
   ]
  },
  {
   "cell_type": "code",
   "execution_count": 105,
   "metadata": {},
   "outputs": [
    {
     "data": {
      "text/html": [
       "<div>\n",
       "<style scoped>\n",
       "    .dataframe tbody tr th:only-of-type {\n",
       "        vertical-align: middle;\n",
       "    }\n",
       "\n",
       "    .dataframe tbody tr th {\n",
       "        vertical-align: top;\n",
       "    }\n",
       "\n",
       "    .dataframe thead th {\n",
       "        text-align: right;\n",
       "    }\n",
       "</style>\n",
       "<table border=\"1\" class=\"dataframe\">\n",
       "  <thead>\n",
       "    <tr style=\"text-align: right;\">\n",
       "      <th></th>\n",
       "      <th>n</th>\n",
       "      <th>potential</th>\n",
       "      <th>position</th>\n",
       "      <th>img_path</th>\n",
       "    </tr>\n",
       "  </thead>\n",
       "  <tbody>\n",
       "    <tr>\n",
       "      <th>0</th>\n",
       "      <td>5</td>\n",
       "      <td>0.226</td>\n",
       "      <td>[81, 117, 150, 182, 218]</td>\n",
       "      <td>train/image_0.png</td>\n",
       "    </tr>\n",
       "    <tr>\n",
       "      <th>1</th>\n",
       "      <td>7</td>\n",
       "      <td>0.448</td>\n",
       "      <td>[93, 114, 132, 150, 167, 185, 206]</td>\n",
       "      <td>train/image_1.png</td>\n",
       "    </tr>\n",
       "    <tr>\n",
       "      <th>2</th>\n",
       "      <td>5</td>\n",
       "      <td>0.341</td>\n",
       "      <td>[97, 125, 150, 174, 202]</td>\n",
       "      <td>train/image_2.png</td>\n",
       "    </tr>\n",
       "    <tr>\n",
       "      <th>3</th>\n",
       "      <td>8</td>\n",
       "      <td>0.390</td>\n",
       "      <td>[82, 104, 123, 141, 158, 176, 195, 217]</td>\n",
       "      <td>train/image_3.png</td>\n",
       "    </tr>\n",
       "    <tr>\n",
       "      <th>4</th>\n",
       "      <td>8</td>\n",
       "      <td>0.404</td>\n",
       "      <td>[83, 105, 124, 141, 158, 175, 194, 216]</td>\n",
       "      <td>train/image_4.png</td>\n",
       "    </tr>\n",
       "    <tr>\n",
       "      <th>...</th>\n",
       "      <td>...</td>\n",
       "      <td>...</td>\n",
       "      <td>...</td>\n",
       "      <td>...</td>\n",
       "    </tr>\n",
       "    <tr>\n",
       "      <th>59995</th>\n",
       "      <td>6</td>\n",
       "      <td>0.369</td>\n",
       "      <td>[92, 117, 139, 160, 182, 207]</td>\n",
       "      <td>train/image_59995.png</td>\n",
       "    </tr>\n",
       "    <tr>\n",
       "      <th>59996</th>\n",
       "      <td>8</td>\n",
       "      <td>0.320</td>\n",
       "      <td>[72, 98, 119, 140, 159, 180, 201, 227]</td>\n",
       "      <td>train/image_59996.png</td>\n",
       "    </tr>\n",
       "    <tr>\n",
       "      <th>59997</th>\n",
       "      <td>8</td>\n",
       "      <td>0.266</td>\n",
       "      <td>[62, 91, 115, 138, 161, 184, 208, 237]</td>\n",
       "      <td>train/image_59997.png</td>\n",
       "    </tr>\n",
       "    <tr>\n",
       "      <th>59998</th>\n",
       "      <td>8</td>\n",
       "      <td>0.337</td>\n",
       "      <td>[75, 99, 120, 140, 159, 179, 200, 224]</td>\n",
       "      <td>train/image_59998.png</td>\n",
       "    </tr>\n",
       "    <tr>\n",
       "      <th>59999</th>\n",
       "      <td>6</td>\n",
       "      <td>0.179</td>\n",
       "      <td>[57, 97, 132, 167, 202, 242]</td>\n",
       "      <td>train/image_59999.png</td>\n",
       "    </tr>\n",
       "  </tbody>\n",
       "</table>\n",
       "<p>60000 rows × 4 columns</p>\n",
       "</div>"
      ],
      "text/plain": [
       "       n  potential                                 position   \n",
       "0      5      0.226                 [81, 117, 150, 182, 218]  \\\n",
       "1      7      0.448       [93, 114, 132, 150, 167, 185, 206]   \n",
       "2      5      0.341                 [97, 125, 150, 174, 202]   \n",
       "3      8      0.390  [82, 104, 123, 141, 158, 176, 195, 217]   \n",
       "4      8      0.404  [83, 105, 124, 141, 158, 175, 194, 216]   \n",
       "...   ..        ...                                      ...   \n",
       "59995  6      0.369            [92, 117, 139, 160, 182, 207]   \n",
       "59996  8      0.320   [72, 98, 119, 140, 159, 180, 201, 227]   \n",
       "59997  8      0.266   [62, 91, 115, 138, 161, 184, 208, 237]   \n",
       "59998  8      0.337   [75, 99, 120, 140, 159, 179, 200, 224]   \n",
       "59999  6      0.179             [57, 97, 132, 167, 202, 242]   \n",
       "\n",
       "                    img_path  \n",
       "0          train/image_0.png  \n",
       "1          train/image_1.png  \n",
       "2          train/image_2.png  \n",
       "3          train/image_3.png  \n",
       "4          train/image_4.png  \n",
       "...                      ...  \n",
       "59995  train/image_59995.png  \n",
       "59996  train/image_59996.png  \n",
       "59997  train/image_59997.png  \n",
       "59998  train/image_59998.png  \n",
       "59999  train/image_59999.png  \n",
       "\n",
       "[60000 rows x 4 columns]"
      ]
     },
     "execution_count": 105,
     "metadata": {},
     "output_type": "execute_result"
    }
   ],
   "source": [
    "import pickle\n",
    "\n",
    "### 피클 파일 불러오기 ###\n",
    "with open(\"E:\\\\2019~\\\\데이터분석\\\\스터디\\\\고려대학교 딥러닝 스터디\\\\train.pkl\",\"rb\") as fr:\n",
    "    train_data = pickle.load(fr)\n",
    "    \n",
    "train_data"
   ]
  },
  {
   "cell_type": "code",
   "execution_count": 106,
   "metadata": {},
   "outputs": [
    {
     "data": {
      "text/html": [
       "<div>\n",
       "<style scoped>\n",
       "    .dataframe tbody tr th:only-of-type {\n",
       "        vertical-align: middle;\n",
       "    }\n",
       "\n",
       "    .dataframe tbody tr th {\n",
       "        vertical-align: top;\n",
       "    }\n",
       "\n",
       "    .dataframe thead th {\n",
       "        text-align: right;\n",
       "    }\n",
       "</style>\n",
       "<table border=\"1\" class=\"dataframe\">\n",
       "  <thead>\n",
       "    <tr style=\"text-align: right;\">\n",
       "      <th></th>\n",
       "      <th>n</th>\n",
       "      <th>potential</th>\n",
       "      <th>position</th>\n",
       "      <th>img_path</th>\n",
       "    </tr>\n",
       "  </thead>\n",
       "  <tbody>\n",
       "    <tr>\n",
       "      <th>0</th>\n",
       "      <td>6</td>\n",
       "      <td>0.457</td>\n",
       "      <td>[100, 122, 140, 159, 177, 199]</td>\n",
       "      <td>valid/image_0.png</td>\n",
       "    </tr>\n",
       "    <tr>\n",
       "      <th>1</th>\n",
       "      <td>7</td>\n",
       "      <td>0.291</td>\n",
       "      <td>[74, 102, 127, 150, 172, 197, 225]</td>\n",
       "      <td>valid/image_1.png</td>\n",
       "    </tr>\n",
       "    <tr>\n",
       "      <th>2</th>\n",
       "      <td>6</td>\n",
       "      <td>0.434</td>\n",
       "      <td>[98, 121, 140, 159, 178, 201]</td>\n",
       "      <td>valid/image_2.png</td>\n",
       "    </tr>\n",
       "    <tr>\n",
       "      <th>3</th>\n",
       "      <td>8</td>\n",
       "      <td>0.435</td>\n",
       "      <td>[86, 107, 125, 141, 158, 174, 192, 213]</td>\n",
       "      <td>valid/image_3.png</td>\n",
       "    </tr>\n",
       "    <tr>\n",
       "      <th>4</th>\n",
       "      <td>8</td>\n",
       "      <td>0.401</td>\n",
       "      <td>[83, 105, 124, 141, 158, 175, 194, 216]</td>\n",
       "      <td>valid/image_4.png</td>\n",
       "    </tr>\n",
       "    <tr>\n",
       "      <th>...</th>\n",
       "      <td>...</td>\n",
       "      <td>...</td>\n",
       "      <td>...</td>\n",
       "      <td>...</td>\n",
       "    </tr>\n",
       "    <tr>\n",
       "      <th>9995</th>\n",
       "      <td>6</td>\n",
       "      <td>0.301</td>\n",
       "      <td>[84, 113, 137, 162, 186, 215]</td>\n",
       "      <td>valid/image_9995.png</td>\n",
       "    </tr>\n",
       "    <tr>\n",
       "      <th>9996</th>\n",
       "      <td>8</td>\n",
       "      <td>0.345</td>\n",
       "      <td>[76, 100, 121, 140, 159, 178, 199, 223]</td>\n",
       "      <td>valid/image_9996.png</td>\n",
       "    </tr>\n",
       "    <tr>\n",
       "      <th>9997</th>\n",
       "      <td>5</td>\n",
       "      <td>0.372</td>\n",
       "      <td>[100, 126, 150, 173, 199]</td>\n",
       "      <td>valid/image_9997.png</td>\n",
       "    </tr>\n",
       "    <tr>\n",
       "      <th>9998</th>\n",
       "      <td>6</td>\n",
       "      <td>0.304</td>\n",
       "      <td>[84, 113, 138, 161, 186, 215]</td>\n",
       "      <td>valid/image_9998.png</td>\n",
       "    </tr>\n",
       "    <tr>\n",
       "      <th>9999</th>\n",
       "      <td>5</td>\n",
       "      <td>0.445</td>\n",
       "      <td>[106, 129, 150, 170, 193]</td>\n",
       "      <td>valid/image_9999.png</td>\n",
       "    </tr>\n",
       "  </tbody>\n",
       "</table>\n",
       "<p>10000 rows × 4 columns</p>\n",
       "</div>"
      ],
      "text/plain": [
       "      n  potential                                 position   \n",
       "0     6      0.457           [100, 122, 140, 159, 177, 199]  \\\n",
       "1     7      0.291       [74, 102, 127, 150, 172, 197, 225]   \n",
       "2     6      0.434            [98, 121, 140, 159, 178, 201]   \n",
       "3     8      0.435  [86, 107, 125, 141, 158, 174, 192, 213]   \n",
       "4     8      0.401  [83, 105, 124, 141, 158, 175, 194, 216]   \n",
       "...  ..        ...                                      ...   \n",
       "9995  6      0.301            [84, 113, 137, 162, 186, 215]   \n",
       "9996  8      0.345  [76, 100, 121, 140, 159, 178, 199, 223]   \n",
       "9997  5      0.372                [100, 126, 150, 173, 199]   \n",
       "9998  6      0.304            [84, 113, 138, 161, 186, 215]   \n",
       "9999  5      0.445                [106, 129, 150, 170, 193]   \n",
       "\n",
       "                  img_path  \n",
       "0        valid/image_0.png  \n",
       "1        valid/image_1.png  \n",
       "2        valid/image_2.png  \n",
       "3        valid/image_3.png  \n",
       "4        valid/image_4.png  \n",
       "...                    ...  \n",
       "9995  valid/image_9995.png  \n",
       "9996  valid/image_9996.png  \n",
       "9997  valid/image_9997.png  \n",
       "9998  valid/image_9998.png  \n",
       "9999  valid/image_9999.png  \n",
       "\n",
       "[10000 rows x 4 columns]"
      ]
     },
     "execution_count": 106,
     "metadata": {},
     "output_type": "execute_result"
    }
   ],
   "source": [
    "with open(\"E:\\\\2019~\\\\데이터분석\\\\스터디\\\\고려대학교 딥러닝 스터디\\\\valid.pkl\",\"rb\") as fr:\n",
    "    valid_data = pickle.load(fr)\n",
    "\n",
    "valid_data"
   ]
  },
  {
   "cell_type": "code",
   "execution_count": 107,
   "metadata": {},
   "outputs": [
    {
     "data": {
      "text/plain": [
       "0            train/image_0.png\n",
       "1            train/image_1.png\n",
       "2            train/image_2.png\n",
       "3            train/image_3.png\n",
       "4            train/image_4.png\n",
       "                 ...          \n",
       "59995    train/image_59995.png\n",
       "59996    train/image_59996.png\n",
       "59997    train/image_59997.png\n",
       "59998    train/image_59998.png\n",
       "59999    train/image_59999.png\n",
       "Name: img_path, Length: 60000, dtype: object"
      ]
     },
     "execution_count": 107,
     "metadata": {},
     "output_type": "execute_result"
    }
   ],
   "source": [
    "train_data['img_path']"
   ]
  },
  {
   "cell_type": "code",
   "execution_count": 108,
   "metadata": {},
   "outputs": [
    {
     "data": {
      "text/plain": [
       "array(['train/image_0.png', 'train/image_1.png', 'train/image_2.png', ...,\n",
       "       'train/image_59997.png', 'train/image_59998.png',\n",
       "       'train/image_59999.png'], dtype=object)"
      ]
     },
     "execution_count": 108,
     "metadata": {},
     "output_type": "execute_result"
    }
   ],
   "source": [
    "train_data['img_path'].values"
   ]
  },
  {
   "cell_type": "code",
   "execution_count": 109,
   "metadata": {},
   "outputs": [
    {
     "data": {
      "text/plain": [
       "array([[5.   , 0.226],\n",
       "       [7.   , 0.448],\n",
       "       [5.   , 0.341],\n",
       "       ...,\n",
       "       [8.   , 0.266],\n",
       "       [8.   , 0.337],\n",
       "       [6.   , 0.179]])"
      ]
     },
     "execution_count": 109,
     "metadata": {},
     "output_type": "execute_result"
    }
   ],
   "source": [
    "np.array(train_data[['n','potential']])"
   ]
  },
  {
   "cell_type": "code",
   "execution_count": 110,
   "metadata": {},
   "outputs": [
    {
     "data": {
      "text/plain": [
       "array([[5.   , 0.226],\n",
       "       [7.   , 0.448],\n",
       "       [5.   , 0.341],\n",
       "       ...,\n",
       "       [8.   , 0.266],\n",
       "       [8.   , 0.337],\n",
       "       [6.   , 0.179]])"
      ]
     },
     "execution_count": 110,
     "metadata": {},
     "output_type": "execute_result"
    }
   ],
   "source": [
    "train_data[['n', 'potential']].values"
   ]
  },
  {
   "cell_type": "code",
   "execution_count": 111,
   "metadata": {},
   "outputs": [],
   "source": [
    "class custom_ION_train_dataset(torch.utils.data.Dataset):\n",
    "    def __init__(self, data_dir, train=True, transform=None):\n",
    "        \n",
    "        self.data_dir = data_dir\n",
    "        \n",
    "        if train:\n",
    "            self.input_path = train_data['img_path'].values\n",
    "            self.target = np.array(train_data[['n','potential']])\n",
    "        else:\n",
    "            self.input_path = valid_data['img_path'].values\n",
    "            self.target = np.array(valid_data[['n', 'potential']])\n",
    "\n",
    "        if transform is None:\n",
    "            self.transform = torch.Tensor\n",
    "        else:\n",
    "            self.transform = transform\n",
    "        \n",
    "    def __len__(self):\n",
    "        return len(self.target)\n",
    "    \n",
    "    def __getitem__(self, index):\n",
    "        \n",
    "        input_file = Image.open(self.data_dir + self.input_path[index])\n",
    "        self.input = np.array(input_file)\n",
    "            \n",
    "        img = self.transform(self.input)\n",
    "        label = self.transform(self.target[index])\n",
    "        \n",
    "        return img, label\n"
   ]
  },
  {
   "cell_type": "code",
   "execution_count": 112,
   "metadata": {},
   "outputs": [],
   "source": [
    "custom_train_data = custom_ION_train_dataset(data_dir, train=True)\n",
    "custom_valid_data = custom_ION_train_dataset(data_dir, train=False)\n",
    "    \n",
    "train_loader = DataLoader(dataset=custom_train_data, batch_size=min_batch, shuffle=True)\n",
    "valid_loader = DataLoader(dataset=custom_valid_data, batch_size=min_batch, shuffle=False)"
   ]
  },
  {
   "cell_type": "code",
   "execution_count": 113,
   "metadata": {},
   "outputs": [],
   "source": [
    "x, y = next(iter(train_loader))"
   ]
  },
  {
   "cell_type": "code",
   "execution_count": 114,
   "metadata": {},
   "outputs": [
    {
     "name": "stdout",
     "output_type": "stream",
     "text": [
      "torch.Size([64, 10, 300])\n",
      "torch.Size([64, 2])\n"
     ]
    }
   ],
   "source": [
    "print(x.shape)\n",
    "print(y.shape)"
   ]
  },
  {
   "cell_type": "code",
   "execution_count": 68,
   "metadata": {},
   "outputs": [
    {
     "data": {
      "text/plain": [
       "tensor([[[0., 0., 0.,  ..., 0., 0., 0.],\n",
       "         [0., 0., 0.,  ..., 0., 0., 0.],\n",
       "         [0., 0., 0.,  ..., 0., 0., 0.],\n",
       "         ...,\n",
       "         [0., 0., 0.,  ..., 0., 0., 0.],\n",
       "         [0., 0., 0.,  ..., 0., 0., 0.],\n",
       "         [0., 0., 0.,  ..., 0., 0., 0.]],\n",
       "\n",
       "        [[0., 0., 0.,  ..., 0., 0., 0.],\n",
       "         [0., 0., 0.,  ..., 0., 0., 0.],\n",
       "         [0., 0., 0.,  ..., 0., 0., 0.],\n",
       "         ...,\n",
       "         [0., 0., 0.,  ..., 0., 0., 0.],\n",
       "         [0., 0., 0.,  ..., 0., 0., 0.],\n",
       "         [0., 0., 0.,  ..., 0., 0., 0.]],\n",
       "\n",
       "        [[0., 0., 0.,  ..., 0., 0., 0.],\n",
       "         [0., 0., 0.,  ..., 0., 0., 0.],\n",
       "         [0., 0., 0.,  ..., 0., 0., 0.],\n",
       "         ...,\n",
       "         [0., 0., 0.,  ..., 0., 0., 0.],\n",
       "         [0., 0., 0.,  ..., 0., 0., 0.],\n",
       "         [0., 0., 0.,  ..., 0., 0., 0.]],\n",
       "\n",
       "        ...,\n",
       "\n",
       "        [[0., 0., 0.,  ..., 0., 0., 0.],\n",
       "         [0., 0., 0.,  ..., 0., 0., 0.],\n",
       "         [0., 0., 0.,  ..., 0., 0., 0.],\n",
       "         ...,\n",
       "         [0., 0., 0.,  ..., 0., 0., 0.],\n",
       "         [0., 0., 0.,  ..., 0., 0., 0.],\n",
       "         [0., 0., 0.,  ..., 0., 0., 0.]],\n",
       "\n",
       "        [[0., 0., 0.,  ..., 0., 0., 0.],\n",
       "         [0., 0., 0.,  ..., 0., 0., 0.],\n",
       "         [0., 0., 0.,  ..., 0., 0., 0.],\n",
       "         ...,\n",
       "         [0., 0., 0.,  ..., 0., 0., 0.],\n",
       "         [0., 0., 0.,  ..., 0., 0., 0.],\n",
       "         [0., 0., 0.,  ..., 0., 0., 0.]],\n",
       "\n",
       "        [[0., 0., 0.,  ..., 0., 0., 0.],\n",
       "         [0., 0., 0.,  ..., 0., 0., 0.],\n",
       "         [0., 0., 0.,  ..., 0., 0., 0.],\n",
       "         ...,\n",
       "         [0., 0., 0.,  ..., 0., 0., 0.],\n",
       "         [0., 0., 0.,  ..., 0., 0., 0.],\n",
       "         [0., 0., 0.,  ..., 0., 0., 0.]]])"
      ]
     },
     "execution_count": 68,
     "metadata": {},
     "output_type": "execute_result"
    }
   ],
   "source": [
    "x"
   ]
  },
  {
   "cell_type": "code",
   "execution_count": 115,
   "metadata": {},
   "outputs": [
    {
     "data": {
      "text/plain": [
       "tensor([[8.0000, 0.4690],\n",
       "        [5.0000, 0.2340],\n",
       "        [6.0000, 0.1870],\n",
       "        [6.0000, 0.4560],\n",
       "        [5.0000, 0.2600],\n",
       "        [7.0000, 0.2380],\n",
       "        [8.0000, 0.2510],\n",
       "        [6.0000, 0.5170],\n",
       "        [5.0000, 0.4710],\n",
       "        [7.0000, 0.4890],\n",
       "        [5.0000, 0.4920],\n",
       "        [7.0000, 0.4910],\n",
       "        [7.0000, 0.3280],\n",
       "        [5.0000, 0.4830],\n",
       "        [7.0000, 0.2750],\n",
       "        [5.0000, 0.2100],\n",
       "        [6.0000, 0.4930],\n",
       "        [6.0000, 0.4250],\n",
       "        [7.0000, 0.3120],\n",
       "        [8.0000, 0.1850],\n",
       "        [5.0000, 0.4690],\n",
       "        [8.0000, 0.1710],\n",
       "        [7.0000, 0.2410],\n",
       "        [5.0000, 0.4750],\n",
       "        [8.0000, 0.3280],\n",
       "        [8.0000, 0.4900],\n",
       "        [8.0000, 0.3110],\n",
       "        [7.0000, 0.3660],\n",
       "        [8.0000, 0.4750],\n",
       "        [5.0000, 0.2990],\n",
       "        [7.0000, 0.2300],\n",
       "        [8.0000, 0.4130],\n",
       "        [6.0000, 0.1570],\n",
       "        [6.0000, 0.4220],\n",
       "        [5.0000, 0.3580],\n",
       "        [5.0000, 0.4070],\n",
       "        [8.0000, 0.4620],\n",
       "        [8.0000, 0.2760],\n",
       "        [8.0000, 0.2000],\n",
       "        [8.0000, 0.3380],\n",
       "        [8.0000, 0.4930],\n",
       "        [8.0000, 0.4650],\n",
       "        [8.0000, 0.3140],\n",
       "        [8.0000, 0.3740],\n",
       "        [8.0000, 0.2440],\n",
       "        [5.0000, 0.2500],\n",
       "        [8.0000, 0.3580],\n",
       "        [5.0000, 0.2500],\n",
       "        [7.0000, 0.1890],\n",
       "        [8.0000, 0.2780],\n",
       "        [8.0000, 0.4450],\n",
       "        [7.0000, 0.4380],\n",
       "        [8.0000, 0.2830],\n",
       "        [7.0000, 0.2650],\n",
       "        [6.0000, 0.5020],\n",
       "        [6.0000, 0.2970],\n",
       "        [7.0000, 0.5100],\n",
       "        [7.0000, 0.5040],\n",
       "        [8.0000, 0.4950],\n",
       "        [8.0000, 0.1590],\n",
       "        [6.0000, 0.4360],\n",
       "        [8.0000, 0.3000],\n",
       "        [6.0000, 0.5120],\n",
       "        [8.0000, 0.1490]])"
      ]
     },
     "execution_count": 115,
     "metadata": {},
     "output_type": "execute_result"
    }
   ],
   "source": [
    "y"
   ]
  },
  {
   "cell_type": "code",
   "execution_count": 116,
   "metadata": {},
   "outputs": [
    {
     "data": {
      "image/png": "[encoded data removed]",
      "text/plain": [
       "<Figure size 640x480 with 1 Axes>"
      ]
     },
     "metadata": {},
     "output_type": "display_data"
    }
   ],
   "source": [
    "import matplotlib.pyplot as plt\n",
    "\n",
    "plt.imshow(x[0], cmap='gray')\n",
    "plt.show()"
   ]
  },
  {
   "cell_type": "code",
   "execution_count": 117,
   "metadata": {},
   "outputs": [
    {
     "data": {
      "image/png": "[encoded data removed]",
      "text/plain": [
       "<Figure size 640x480 with 1 Axes>"
      ]
     },
     "metadata": {},
     "output_type": "display_data"
    }
   ],
   "source": [
    "plt.imshow(x[0])\n",
    "plt.show()"
   ]
  },
  {
   "cell_type": "code",
   "execution_count": 118,
   "metadata": {},
   "outputs": [
    {
     "data": {
      "image/png": "[encoded data removed]",
      "text/plain": [
       "<Figure size 640x480 with 5 Axes>"
      ]
     },
     "metadata": {},
     "output_type": "display_data"
    }
   ],
   "source": [
    "for i in range(5):\n",
    "    plt.subplot(5, 1, i+1)\n",
    "    plt.imshow(x[i])\n",
    "    plt.title(\"n: {}, potential: {}\".format(y[i][0], y[i][1]))"
   ]
  }
 ],
 "metadata": {
  "kernelspec": {
   "display_name": "Python 3",
   "language": "python",
   "name": "python3"
  },
  "language_info": {
   "codemirror_mode": {
    "name": "ipython",
    "version": 3
   },
   "file_extension": ".py",
   "mimetype": "text/x-python",
   "name": "python",
   "nbconvert_exporter": "python",
   "pygments_lexer": "ipython3",
   "version": "3.9.6"
  },
  "orig_nbformat": 4
 },
 "nbformat": 4,
 "nbformat_minor": 2
}
